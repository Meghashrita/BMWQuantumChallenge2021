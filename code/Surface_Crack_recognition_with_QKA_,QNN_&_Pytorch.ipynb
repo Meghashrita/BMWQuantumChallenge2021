{
  "nbformat": 4,
  "nbformat_minor": 0,
  "metadata": {
    "colab": {
      "name": "Surface_Crack_recognition_with QKA ,QNN & Pytorch.ipynb",
      "provenance": [],
      "collapsed_sections": []
    },
    "kernelspec": {
      "display_name": "Python 3",
      "language": "python",
      "name": "python3"
    },
    "language_info": {
      "codemirror_mode": {
        "name": "ipython",
        "version": 3
      },
      "file_extension": ".py",
      "mimetype": "text/x-python",
      "name": "python",
      "nbconvert_exporter": "python",
      "pygments_lexer": "ipython3",
      "version": "3.8.11"
    },
    "toc": {
      "base_numbering": 1,
      "nav_menu": {},
      "number_sections": true,
      "sideBar": true,
      "skip_h1_title": false,
      "title_cell": "Table of Contents",
      "title_sidebar": "Contents",
      "toc_cell": false,
      "toc_position": {},
      "toc_section_display": true,
      "toc_window_display": true
    }
  },
  "cells": [
    {
      "cell_type": "markdown",
      "metadata": {
        "id": "4br8RjfKPC4q"
      },
      "source": [
        "##Exploring Quantum Kernel Alignment Runtime for optimizing Quantum Neural Network"
      ]
    },
    {
      "cell_type": "code",
      "metadata": {
        "id": "SgEkR_qKHBfq"
      },
      "source": [
        "!pip install kaggle\n",
        "!pip install qiskit\n",
        "!pip install torch"
      ],
      "execution_count": null,
      "outputs": []
    },
    {
      "cell_type": "markdown",
      "metadata": {
        "id": "KasZkzarOLnT"
      },
      "source": [
        "## Importing required Modules"
      ]
    },
    {
      "cell_type": "code",
      "metadata": {
        "ExecuteTime": {
          "end_time": "2019-12-30T19:01:03.104814Z",
          "start_time": "2019-12-30T19:01:02.058196Z"
        },
        "id": "WaF6Z51NGz1l",
        "scrolled": true
      },
      "source": [
        "#Importing Supporting Python  Modules\n",
        "import numpy as np\n",
        "import os\n",
        "cwd = os.getcwd()\n",
        "from PIL import Image\n",
        "import time\n",
        "import copy\n",
        "import random\n",
        "import cv2\n",
        "import re\n",
        "import shutil\n",
        "from itertools import combinations\n",
        "import matplotlib.pyplot as plt\n",
        "import matplotlib.image as mpimg\n",
        "%matplotlib inline\n",
        "\n",
        "#Importing Pytorch Specific Modules\n",
        "import torch\n",
        "import kaggle\n",
        "import torchvision\n",
        "import torch.nn as nn\n",
        "import torch.optim as optim\n",
        "from torch.utils.data import DataLoader\n",
        "from torch.utils.data import sampler\n",
        "from torch.optim import lr_scheduler\n",
        "from torchvision import datasets, models, transforms\n",
        "from torch.autograd import Function\n",
        "import torch.nn.functional as F\n",
        "\n",
        "\n",
        "#Importing Qiskit Specific Modules\n",
        "import qiskit\n",
        "from qiskit.visualization import *\n",
        "from qiskit.circuit.random import random_circuit\n",
        "from qiskit import transpile, assemble\n",
        "from qiskit.visualization import *"
      ],
      "execution_count": null,
      "outputs": []
    },
    {
      "cell_type": "markdown",
      "metadata": {
        "id": "iotvpl7mGz1m"
      },
      "source": [
        "## Load the Cracks Dataset and Visualize it\n",
        "* Link to the cracks data set:  https://data.mendeley.com/datasets/5y9wdsg2zt/2\n"
      ]
    },
    {
      "cell_type": "code",
      "metadata": {
        "id": "MypepJ44N8qc"
      },
      "source": [
        "from google.colab import files\n",
        "files.upload() ## Upload your kaggle.json credentials file"
      ],
      "execution_count": null,
      "outputs": []
    },
    {
      "cell_type": "code",
      "metadata": {
        "colab": {
          "base_uri": "https://localhost:8080/"
        },
        "id": "C7xnEwfCXwaO",
        "outputId": "65ddcb45-c021-46c5-88e8-af633e2a9cf6"
      },
      "source": [
        "! mkdir ~/.kaggle\n",
        "! cp kaggle.json ~/.kaggle/\n",
        "! chmod 600 ~/.kaggle/kaggle.json\n",
        "!pip install torch "
      ],
      "execution_count": null,
      "outputs": [
        {
          "name": "stdout",
          "output_type": "stream",
          "text": [
            "Requirement already satisfied: torch in /usr/local/lib/python3.7/dist-packages (1.9.0+cu102)\n",
            "Requirement already satisfied: typing-extensions in /usr/local/lib/python3.7/dist-packages (from torch) (3.7.4.3)\n"
          ]
        }
      ]
    },
    {
      "cell_type": "code",
      "metadata": {
        "colab": {
          "base_uri": "https://localhost:8080/"
        },
        "id": "3IMI1vMxH9vs",
        "outputId": "a5918a7c-3d66-41d3-ad87-4546dffacbd1"
      },
      "source": [
        "!kaggle datasets download -d arunrk7/surface-crack-detection"
      ],
      "execution_count": null,
      "outputs": [
        {
          "name": "stdout",
          "output_type": "stream",
          "text": [
            "Downloading surface-crack-detection.zip to /content\n",
            " 93% 216M/233M [00:02<00:00, 131MB/s]\n",
            "100% 233M/233M [00:02<00:00, 112MB/s]\n"
          ]
        }
      ]
    },
    {
      "cell_type": "code",
      "metadata": {
        "id": "X3G78ALhYtGH"
      },
      "source": [
        "!unzip surface-crack-detection.zip"
      ],
      "execution_count": null,
      "outputs": []
    },
    {
      "cell_type": "code",
      "metadata": {
        "ExecuteTime": {
          "end_time": "2019-12-29T20:16:02.764712Z",
          "start_time": "2019-12-29T20:16:02.754874Z"
        },
        "id": "fCM6MBB6Gz1n"
      },
      "source": [
        "crack_images = os.listdir('Positive/')\n",
        "print(\"Number of Crack Images: \", len(crack_images))"
      ],
      "execution_count": null,
      "outputs": []
    },
    {
      "cell_type": "code",
      "metadata": {
        "ExecuteTime": {
          "end_time": "2019-12-29T20:16:02.775612Z",
          "start_time": "2019-12-29T20:16:02.765862Z"
        },
        "id": "eQ_ZmOb2Gz1o"
      },
      "source": [
        "no_crack_images = os.listdir('Negative/')\n",
        "print(\"Number of No Crack Images: \", len(no_crack_images))"
      ],
      "execution_count": null,
      "outputs": []
    },
    {
      "cell_type": "code",
      "metadata": {
        "ExecuteTime": {
          "end_time": "2019-12-29T20:16:03.081731Z",
          "start_time": "2019-12-29T20:16:02.776575Z"
        },
        "colab": {
          "base_uri": "https://localhost:8080/",
          "height": 302
        },
        "id": "Td186SNwGz1p",
        "outputId": "d973ca9b-e5e5-49c0-d782-544f0a103e81"
      },
      "source": [
        "## Visualize Random images with cracks\n",
        "random_indices = np.random.randint(0, len(crack_images), size=4)\n",
        "print(\"*****************Random Images with Cracks**************************\")\n",
        "random_images = np.array(crack_images)[random_indices.astype(int)]\n",
        "\n",
        "f, axarr = plt.subplots(2,2)\n",
        "axarr[0,0].imshow(mpimg.imread(os.path.join(cwd, 'Positive', random_images[0])))\n",
        "axarr[0,1].imshow(mpimg.imread(os.path.join(cwd, 'Positive', random_images[1])))\n",
        "axarr[1,0].imshow(mpimg.imread(os.path.join(cwd, 'Positive', random_images[2])))\n",
        "axarr[1,1].imshow(mpimg.imread(os.path.join(cwd, 'Positive', random_images[3])))"
      ],
      "execution_count": null,
      "outputs": [
        {
          "name": "stdout",
          "output_type": "stream",
          "text": [
            "*****************Random Images with Cracks**************************\n"
          ]
        },
        {
          "data": {
            "text/plain": [
              "<matplotlib.image.AxesImage at 0x7febb4f78790>"
            ]
          },
          "execution_count": 149,
          "metadata": {},
          "output_type": "execute_result"
        },
        {
          "data": {
            "image/png": "[encoded data removed]",
            "text/plain": [
              "<Figure size 432x288 with 4 Axes>"
            ]
          },
          "metadata": {
            "needs_background": "light"
          },
          "output_type": "display_data"
        }
      ]
    },
    {
      "cell_type": "code",
      "metadata": {
        "ExecuteTime": {
          "end_time": "2019-12-29T20:16:03.373866Z",
          "start_time": "2019-12-29T20:16:03.082926Z"
        },
        "colab": {
          "base_uri": "https://localhost:8080/",
          "height": 302
        },
        "id": "jQhwG7OuGz1q",
        "outputId": "7395b64f-61b5-47d9-cbdb-4bbfa78212bb"
      },
      "source": [
        "## Visualize Random images with no cracks\n",
        "random_indices = np.random.randint(0, len(no_crack_images), size=4)\n",
        "print(\"*****************Random Images without Cracks**************************\")\n",
        "random_images = np.array(no_crack_images)[random_indices.astype(int)]\n",
        "\n",
        "f, axarr = plt.subplots(2,2)\n",
        "axarr[0,0].imshow(mpimg.imread(os.path.join(cwd, 'Negative', random_images[0])))\n",
        "axarr[0,1].imshow(mpimg.imread(os.path.join(cwd, 'Negative', random_images[1])))\n",
        "axarr[1,0].imshow(mpimg.imread(os.path.join(cwd, 'Negative', random_images[2])))\n",
        "axarr[1,1].imshow(mpimg.imread(os.path.join(cwd, 'Negative', random_images[3])))"
      ],
      "execution_count": null,
      "outputs": [
        {
          "name": "stdout",
          "output_type": "stream",
          "text": [
            "*****************Random Images without Cracks**************************\n"
          ]
        },
        {
          "data": {
            "text/plain": [
              "<matplotlib.image.AxesImage at 0x7febb41f2f50>"
            ]
          },
          "execution_count": 150,
          "metadata": {},
          "output_type": "execute_result"
        },
        {
          "data": {
            "image/png": "[encoded data removed]",
            "text/plain": [
              "<Figure size 432x288 with 4 Axes>"
            ]
          },
          "metadata": {
            "needs_background": "light"
          },
          "output_type": "display_data"
        }
      ]
    },
    {
      "cell_type": "markdown",
      "metadata": {
        "id": "7bejVT0-Gz1r"
      },
      "source": [
        "## Create Train and Val Data sets"
      ]
    },
    {
      "cell_type": "markdown",
      "metadata": {
        "id": "q2LYtyHUGz1s"
      },
      "source": [
        "### Create training folder"
      ]
    },
    {
      "cell_type": "code",
      "metadata": {
        "ExecuteTime": {
          "end_time": "2019-12-29T20:16:03.377672Z",
          "start_time": "2019-12-29T20:16:03.374846Z"
        },
        "id": "ecDc0-2BGz1s",
        "outputId": "ff2e6e9c-bfa2-4b4f-d2cd-a413d141ba7c"
      },
      "source": [
        "!rm -rf train\n",
        "base_dir = cwd\n",
        "files = os.listdir(base_dir)\n",
        "\n",
        "def create_training_data(folder_name):\n",
        "    train_dir = f\"{base_dir}/train/{folder_name}\"\n",
        "    for f in files:\n",
        "        search_object = re.search(folder_name, f)\n",
        "        if search_object:\n",
        "            shutil.move(f'{base_dir}/{folder_name}', train_dir)"
      ],
      "execution_count": null,
      "outputs": [
        {
          "name": "stderr",
          "output_type": "stream",
          "text": [
            "'rm' is not recognized as an internal or external command,\n",
            "operable program or batch file.\n"
          ]
        }
      ]
    },
    {
      "cell_type": "code",
      "metadata": {
        "ExecuteTime": {
          "end_time": "2019-12-29T20:16:04.687817Z",
          "start_time": "2019-12-29T20:16:03.378654Z"
        },
        "id": "nZDL35woGz1t",
        "outputId": "0b69a3c6-ea32-4566-f2f4-9ae95c40c7c2"
      },
      "source": [
        "create_training_data('Positive')\n",
        "create_training_data('Negative')\n",
        "!rm -rf val"
      ],
      "execution_count": null,
      "outputs": [
        {
          "name": "stderr",
          "output_type": "stream",
          "text": [
            "'rm' is not recognized as an internal or external command,\n",
            "operable program or batch file.\n"
          ]
        }
      ]
    },
    {
      "cell_type": "markdown",
      "metadata": {
        "id": "85KJT-7tGz1t"
      },
      "source": [
        "### Move images randomly from training to val folders"
      ]
    },
    {
      "cell_type": "code",
      "metadata": {
        "ExecuteTime": {
          "end_time": "2019-12-29T20:16:04.691431Z",
          "start_time": "2019-12-29T20:16:04.689387Z"
        },
        "id": "5Aig0OHrGz1t"
      },
      "source": [
        "os.makedirs('val/Positive')\n",
        "os.makedirs('val/Negative')"
      ],
      "execution_count": null,
      "outputs": []
    },
    {
      "cell_type": "code",
      "metadata": {
        "ExecuteTime": {
          "end_time": "2019-12-29T20:16:04.735783Z",
          "start_time": "2019-12-29T20:16:04.693150Z"
        },
        "id": "jLVwUAXMGz1u"
      },
      "source": [
        "positive_train = base_dir + \"/train/Positive/\"\n",
        "positive_val = base_dir + \"/val/Positive/\"\n",
        "negative_train = base_dir + \"/train/Negative/\"\n",
        "negative_val = base_dir + \"/val/Negative/\"\n",
        "\n",
        "positive_files = os.listdir(positive_train)\n",
        "negative_files = os.listdir(negative_train)"
      ],
      "execution_count": null,
      "outputs": []
    },
    {
      "cell_type": "code",
      "metadata": {
        "ExecuteTime": {
          "end_time": "2019-12-29T20:16:04.738930Z",
          "start_time": "2019-12-29T20:16:04.736694Z"
        },
        "colab": {
          "base_uri": "https://localhost:8080/"
        },
        "id": "AmHmUDv_Gz1u",
        "outputId": "ba315205-15be-488a-dd95-11e28357c6d1"
      },
      "source": [
        "print(len(positive_files), len(negative_files))"
      ],
      "execution_count": null,
      "outputs": [
        {
          "name": "stdout",
          "output_type": "stream",
          "text": [
            "15974 15892\n"
          ]
        }
      ]
    },
    {
      "cell_type": "markdown",
      "metadata": {
        "id": "1PJCC4IFJ9pk"
      },
      "source": [
        "## QKA"
      ]
    },
    {
      "cell_type": "markdown",
      "metadata": {
        "id": "n6_2mhVTNX2w"
      },
      "source": [
        "##Loading IBM Quantum account and get the quantum backend"
      ]
    },
    {
      "cell_type": "code",
      "metadata": {
        "colab": {
          "base_uri": "https://localhost:8080/"
        },
        "id": "Y3qNOG25M95S",
        "outputId": "d22be106-869a-4a2e-ee9d-5b44f972aa3b"
      },
      "source": [
        "# !pip install qiskit\n",
        "import sys\n",
        "#sys.path.insert(0, 'qiskit-runtime-main/qiskit-runtime-main/qiskit_runtime') # Add qiskit_runtime directory to the path\n",
        "from qiskit import *\n",
        "from qiskit import IBMQ\n",
        "IBMQ.save_account('YOUR IBM QUANTUM KEY')\n",
        "IBMQ.load_account() # Load account from disk\n",
        "IBMQ.providers()    # List all available providers\n",
        "provider = IBMQ.load_account()\n",
        "print(f\"Do I have access to Qiskit Runtime? {provider.has_service('runtime')}\")"
      ],
      "execution_count": null,
      "outputs": [
        {
          "name": "stderr",
          "output_type": "stream",
          "text": [
            "configrc.store_credentials:WARNING:2021-08-30 16:29:48,026: Credentials already present. Set overwrite=True to overwrite.\n",
            "ibmqfactory.load_account:WARNING:2021-08-30 16:29:54,525: Credentials are already in use. The existing account in the session will be replaced.\n"
          ]
        },
        {
          "name": "stdout",
          "output_type": "stream",
          "text": [
            "Do I have access to Qiskit Runtime? True\n"
          ]
        }
      ]
    },
    {
      "cell_type": "code",
      "metadata": {
        "id": "m-aBjQMfFjgI"
      },
      "source": [
        "provider = IBMQ.get_provider(hub='ibm-q', group='open',project='main') # Change this to your provider.\n",
        "backend = provider.get_backend('ibmq_qasm_simulator')"
      ],
      "execution_count": null,
      "outputs": []
    },
    {
      "cell_type": "markdown",
      "metadata": {
        "id": "RIklnEADMMmC"
      },
      "source": [
        "##Invoke the Quantum Kernel Alignment program"
      ]
    },
    {
      "cell_type": "code",
      "metadata": {
        "id": "teWP5jKGNwfG"
      },
      "source": [
        "import os\n",
        "def ListofFiles(Dir):\n",
        "    Files = []\n",
        "    for root, dir_name, file_name in os.walk(Dir): \n",
        "#root store address till directory, dir_name stores directory name # file_name stores file name\n",
        "        for name in file_name:\n",
        "            fullName = os.path.join(root, name)\n",
        "            Files.append(fullName)\n",
        "    return Files"
      ],
      "execution_count": null,
      "outputs": []
    },
    {
      "cell_type": "code",
      "metadata": {
        "id": "SecN-0UmNwfG"
      },
      "source": [
        "FileList = ListofFiles('train/Positive') #Same do for Negative"
      ],
      "execution_count": null,
      "outputs": []
    },
    {
      "cell_type": "code",
      "metadata": {
        "id": "Lraplg0SNwfG"
      },
      "source": [
        "from PIL import Image,ImageOps\n",
        "pixels=[]\n",
        "for file in FileList[:100]:\n",
        "    Im = Image.open(file)\n",
        "    Im1= ImageOps.grayscale(Im)\n",
        "    Im1 = Im1.resize((6,6), resample=Image.LANCZOS) \n",
        "    pixels.append(list(Im1.getdata()))"
      ],
      "execution_count": null,
      "outputs": []
    },
    {
      "cell_type": "code",
      "metadata": {
        "id": "Tsmr1R9DNwfG",
        "outputId": "6b2ff540-15e6-4d2f-80b0-0ef9ae95b0af"
      },
      "source": [
        "import numpy as np\n",
        "from numpy import savetxt\n",
        "pixels_arr=np.asarray(pixels)\n",
        "pixels_arr = pixels_arr.reshape(pixels_arr.shape[0],-1)\n",
        "print(pixels_arr.shape)\n",
        "savetxt('numbers_positive_downsampled.csv', pixels_arr, delimiter=',')"
      ],
      "execution_count": null,
      "outputs": [
        {
          "name": "stdout",
          "output_type": "stream",
          "text": [
            "(100, 36)\n"
          ]
        }
      ]
    },
    {
      "cell_type": "code",
      "metadata": {
        "id": "eIuyNwvcNwfG"
      },
      "source": [
        "from csv import writer\n",
        "from csv import reader\n",
        "default_text = float(1)\n",
        "\n",
        "with open('numbers_positive_downsampled.csv', 'r') as read_obj, \\\n",
        "        open('numbers_positive_mark_downsampled_marked.csv', 'w', newline='') as write_obj:\n",
        "    csv_reader = reader(read_obj)\n",
        "    csv_writer = writer(write_obj)\n",
        "    \n",
        "    for row in csv_reader:\n",
        "       \n",
        "        row.append(default_text)\n",
        "        csv_writer.writerow(row)"
      ],
      "execution_count": null,
      "outputs": []
    },
    {
      "cell_type": "code",
      "metadata": {
        "scrolled": true,
        "tags": [],
        "id": "KY4kojo5NwfH",
        "outputId": "f8ea0203-6cf1-43d0-a573-0ef1fb238bb2"
      },
      "source": [
        "import pandas as pd\n",
        "\n",
        "df_list = []\n",
        "for file_name in ['numbers_positive_mark_downsampled_marked.csv', 'numbers_negative_mark_downsampled_marked.csv']:\n",
        "    df = pd.read_csv(file_name,header=None)\n",
        "    df_list.append(df)\n",
        "\n",
        "df_concat = pd.concat(df_list)\n",
        "print(df_concat)"
      ],
      "execution_count": null,
      "outputs": [
        {
          "name": "stdout",
          "output_type": "stream",
          "text": [
            "       0      1      2      3      4      5      6      7      8      9   ...  \\\n",
            "0   139.0  121.0  115.0  138.0  135.0  137.0  138.0  132.0  114.0  137.0  ...   \n",
            "1   153.0  153.0  152.0  160.0  148.0  155.0  154.0  156.0  153.0  156.0  ...   \n",
            "2   147.0  148.0  147.0  149.0  126.0  141.0  146.0  146.0  148.0  142.0  ...   \n",
            "3   160.0  162.0  161.0  146.0  137.0  152.0  160.0  161.0  161.0  147.0  ...   \n",
            "4   153.0  151.0  155.0  140.0  138.0  153.0  151.0  151.0  153.0  138.0  ...   \n",
            "5   160.0  155.0  142.0  145.0  120.0  132.0  153.0  150.0  143.0  146.0  ...   \n",
            "6   156.0  128.0  116.0  153.0  151.0  151.0  155.0  143.0  109.0  152.0  ...   \n",
            "7   148.0  142.0  136.0  148.0  148.0  151.0  147.0  143.0  125.0  146.0  ...   \n",
            "8   154.0  130.0  142.0  149.0  147.0  146.0  157.0  134.0  136.0  150.0  ...   \n",
            "9   150.0  135.0  132.0  149.0  147.0  150.0  149.0  144.0  136.0  151.0  ...   \n",
            "10  155.0  153.0  158.0  152.0  153.0  165.0  157.0  153.0  157.0  153.0  ...   \n",
            "11  152.0  158.0  156.0  148.0  149.0  150.0  149.0  155.0  156.0  149.0  ...   \n",
            "12  147.0  145.0  150.0  153.0  150.0  146.0  149.0  148.0  150.0  152.0  ...   \n",
            "13  152.0  147.0  146.0  142.0  141.0  140.0  148.0  148.0  148.0  143.0  ...   \n",
            "14  151.0  151.0  153.0  147.0  151.0  159.0  147.0  147.0  155.0  145.0  ...   \n",
            "15  188.0  187.0  198.0  213.0  216.0  206.0  180.0  192.0  199.0  199.0  ...   \n",
            "16  212.0  207.0  202.0  204.0  210.0  212.0  183.0  192.0  208.0  206.0  ...   \n",
            "17  187.0  191.0  190.0  194.0  179.0  177.0  188.0  186.0  202.0  196.0  ...   \n",
            "18  153.0  180.0  166.0  158.0  156.0  153.0  167.0  149.0  170.0  157.0  ...   \n",
            "19  135.0  148.0  153.0  154.0  155.0  160.0  149.0  145.0  154.0  155.0  ...   \n",
            "20  166.0  168.0  177.0  164.0  153.0  165.0  171.0  170.0  166.0  162.0  ...   \n",
            "21  178.0  183.0  185.0  172.0  159.0  156.0  180.0  178.0  171.0  170.0  ...   \n",
            "22  152.0  151.0  152.0  153.0  149.0  162.0  151.0  154.0  153.0  152.0  ...   \n",
            "23  150.0  157.0  161.0  165.0  163.0  158.0  153.0  158.0  162.0  157.0  ...   \n",
            "24  156.0  158.0  157.0  151.0  160.0  162.0  156.0  158.0  160.0  157.0  ...   \n",
            "25  157.0  161.0  168.0  170.0  173.0  173.0  158.0  161.0  166.0  174.0  ...   \n",
            "26  171.0  168.0  178.0  184.0  187.0  170.0  176.0  173.0  179.0  181.0  ...   \n",
            "27  180.0  181.0  163.0  156.0  158.0  158.0  178.0  181.0  164.0  154.0  ...   \n",
            "28  158.0  160.0  160.0  154.0  156.0  154.0  160.0  161.0  163.0  157.0  ...   \n",
            "29  155.0  153.0  159.0  155.0  145.0  157.0  157.0  153.0  157.0  159.0  ...   \n",
            "30  157.0  148.0  157.0  156.0  159.0  169.0  150.0  138.0  148.0  168.0  ...   \n",
            "31  200.0  203.0  202.0  208.0  195.0  200.0  200.0  209.0  204.0  196.0  ...   \n",
            "32  198.0  207.0  207.0  205.0  207.0  203.0  214.0  217.0  204.0  196.0  ...   \n",
            "33  176.0  187.0  193.0  184.0  190.0  202.0  183.0  193.0  188.0  179.0  ...   \n",
            "34  122.0  118.0  118.0  122.0   86.0   47.0  122.0  114.0  114.0  112.0  ...   \n",
            "35  116.0  117.0   81.0   68.0  133.0  126.0  111.0  113.0   90.0   60.0  ...   \n",
            "36  111.0  114.0   92.0   57.0  130.0  125.0  109.0  122.0  112.0   60.0  ...   \n",
            "37  120.0  123.0  115.0  108.0  104.0   78.0  123.0  122.0  120.0  102.0  ...   \n",
            "38  125.0  123.0  128.0  104.0   92.0  130.0  124.0  123.0  127.0   89.0  ...   \n",
            "39  114.0  115.0   77.0   98.0  124.0  117.0  117.0  111.0   89.0  109.0  ...   \n",
            "40  118.0  115.0   97.0   80.0  132.0  123.0  117.0  112.0  100.0   70.0  ...   \n",
            "41  122.0  122.0  100.0   66.0  127.0  125.0  122.0  124.0  108.0   71.0  ...   \n",
            "42  116.0  115.0  116.0  106.0   68.0  117.0  116.0  116.0  115.0  105.0  ...   \n",
            "43  115.0  112.0  103.0   84.0  122.0  119.0  111.0  111.0   99.0   70.0  ...   \n",
            "44   87.0   55.0  101.0  119.0  125.0  118.0  113.0   76.0   75.0  114.0  ...   \n",
            "45  113.0  110.0  104.0  106.0   79.0   96.0  112.0  110.0  103.0   96.0  ...   \n",
            "46  117.0  119.0   80.0  116.0  123.0  124.0  113.0  120.0   73.0  125.0  ...   \n",
            "47  110.0  106.0   72.0  109.0  121.0  119.0  114.0  101.0   70.0  121.0  ...   \n",
            "48  111.0   75.0   96.0  126.0  120.0  119.0  113.0   85.0   91.0  127.0  ...   \n",
            "49  141.0  139.0  139.0   65.0   97.0  150.0  145.0  144.0  144.0   91.0  ...   \n",
            "50   88.0  126.0  164.0  152.0  151.0  153.0  131.0   74.0  149.0  156.0  ...   \n",
            "51  115.0  104.0  162.0  144.0  153.0  153.0  138.0   97.0  154.0  145.0  ...   \n",
            "52  105.0  124.0  158.0  143.0  150.0  147.0  113.0   80.0  147.0  145.0  ...   \n",
            "53  137.0  137.0  134.0  123.0   92.0  148.0  137.0  138.0  138.0  123.0  ...   \n",
            "54  137.0  133.0  116.0  118.0  130.0  127.0  129.0  118.0  116.0   94.0  ...   \n",
            "55   85.0  140.0  156.0  151.0  148.0  151.0  116.0   99.0  159.0  149.0  ...   \n",
            "56  102.0  104.0  155.0  145.0  148.0  153.0  129.0   76.0  144.0  147.0  ...   \n",
            "57  115.0  130.0  132.0  106.0  127.0  140.0  109.0  130.0  126.0  113.0  ...   \n",
            "58  137.0  137.0  128.0  145.0  139.0  144.0  130.0  132.0  114.0  140.0  ...   \n",
            "59  112.0  140.0  136.0  135.0  134.0  133.0   67.0  118.0  141.0  136.0  ...   \n",
            "60   58.0  127.0  129.0  116.0  113.0  122.0   47.0   70.0  133.0  110.0  ...   \n",
            "61  115.0   67.0  112.0  132.0  122.0  133.0  130.0  102.0   90.0  140.0  ...   \n",
            "62  132.0  101.0   94.0  139.0  124.0  136.0  130.0  131.0   73.0  116.0  ...   \n",
            "63  132.0  124.0  107.0  134.0  111.0  132.0  131.0  132.0   99.0  132.0  ...   \n",
            "64  134.0  105.0  118.0  131.0  131.0  124.0  128.0  122.0  105.0  131.0  ...   \n",
            "65  121.0  123.0  136.0  140.0  141.0  138.0  106.0  127.0  131.0  142.0  ...   \n",
            "66  133.0  133.0   95.0   36.0   90.0  156.0  116.0  114.0  134.0  101.0  ...   \n",
            "67  125.0  154.0  145.0  144.0  143.0  144.0  103.0   97.0  138.0  147.0  ...   \n",
            "68   70.0  128.0  151.0  142.0  146.0  144.0  102.0  119.0  153.0  144.0  ...   \n",
            "69  129.0  125.0  124.0  122.0  127.0  125.0  136.0  124.0  121.0  121.0  ...   \n",
            "70  109.0   80.0  121.0  121.0  122.0  121.0  131.0   94.0   94.0  123.0  ...   \n",
            "71  129.0  122.0  126.0  123.0  119.0  119.0  123.0  127.0  120.0  124.0  ...   \n",
            "72  123.0  124.0  124.0  120.0  117.0  120.0  107.0  129.0  120.0  118.0  ...   \n",
            "73  128.0  123.0  120.0  116.0  116.0  116.0   86.0  117.0  114.0  115.0  ...   \n",
            "74  120.0  120.0  120.0  122.0  116.0  116.0  122.0  122.0  121.0  118.0  ...   \n",
            "75  124.0  112.0  106.0  116.0  115.0  117.0   82.0  109.0  114.0  116.0  ...   \n",
            "76  115.0  119.0  118.0  116.0  114.0  121.0  115.0  118.0  114.0  118.0  ...   \n",
            "77  126.0  118.0  117.0  121.0  115.0  116.0   87.0  121.0  122.0  118.0  ...   \n",
            "78  109.0  127.0  124.0  123.0  125.0  122.0  111.0  126.0  124.0  121.0  ...   \n",
            "79  114.0  127.0  122.0  118.0  117.0  120.0   71.0   92.0  131.0  118.0  ...   \n",
            "80  119.0  121.0  124.0  122.0  121.0  122.0  128.0  127.0  126.0  124.0  ...   \n",
            "81  122.0  121.0  118.0  120.0  118.0  117.0  127.0  120.0  119.0  116.0  ...   \n",
            "82  126.0  122.0  118.0  118.0  122.0  123.0   84.0  121.0  120.0  121.0  ...   \n",
            "83  129.0  125.0  123.0  127.0  128.0  126.0  124.0  135.0  129.0  125.0  ...   \n",
            "84  129.0  124.0  125.0  128.0  130.0  130.0  120.0  133.0  123.0  126.0  ...   \n",
            "85  126.0  123.0  125.0  124.0  123.0  126.0  132.0  130.0  128.0  128.0  ...   \n",
            "86  164.0  178.0  161.0  151.0  149.0  143.0  165.0  162.0  160.0  153.0  ...   \n",
            "87  145.0  144.0  139.0  146.0  147.0  145.0  137.0  147.0  146.0  150.0  ...   \n",
            "88  126.0  139.0  140.0  137.0  136.0  134.0   93.0  106.0  148.0  142.0  ...   \n",
            "89  137.0   90.0  134.0  130.0  128.0  130.0  149.0  109.0  121.0  146.0  ...   \n",
            "90  126.0  131.0  120.0  125.0  124.0  130.0  119.0  139.0  123.0  114.0  ...   \n",
            "91  121.0  128.0  129.0  124.0  134.0  145.0  138.0  114.0  112.0  117.0  ...   \n",
            "92  119.0  120.0  116.0  117.0  100.0   91.0  108.0  119.0  127.0  113.0  ...   \n",
            "93  140.0  148.0  149.0  143.0  138.0  127.0  172.0  172.0  169.0  164.0  ...   \n",
            "94  135.0  133.0  133.0  161.0  126.0  126.0  130.0  152.0  127.0  142.0  ...   \n",
            "95   90.0   87.0  118.0  118.0  132.0  146.0   75.0   94.0  118.0  122.0  ...   \n",
            "96  129.0  128.0  143.0  142.0   84.0   90.0  125.0  132.0  139.0  140.0  ...   \n",
            "97   76.0  112.0  101.0  113.0  123.0  129.0   58.0   65.0   91.0  115.0  ...   \n",
            "98  142.0  144.0  145.0  148.0  124.0  149.0  146.0  147.0  137.0  134.0  ...   \n",
            "99  147.0  140.0  140.0  123.0  122.0  115.0  130.0  121.0  135.0  129.0  ...   \n",
            "0   163.0  164.0  164.0  162.0  162.0  164.0  158.0  161.0  159.0  165.0  ...   \n",
            "1   157.0  163.0  162.0  154.0  154.0  150.0  152.0  159.0  162.0  165.0  ...   \n",
            "2   173.0  203.0  185.0  168.0  182.0  169.0  158.0  181.0  181.0  183.0  ...   \n",
            "3   203.0  200.0  199.0  197.0  198.0  202.0  202.0  200.0  199.0  199.0  ...   \n",
            "4   199.0  200.0  199.0  197.0  197.0  198.0  200.0  200.0  192.0  192.0  ...   \n",
            "5   186.0  186.0  186.0  185.0  183.0  178.0  187.0  185.0  185.0  185.0  ...   \n",
            "6   151.0  154.0  161.0  174.0  173.0  202.0  171.0  171.0  181.0  178.0  ...   \n",
            "7   212.0  211.0  209.0  209.0  214.0  214.0  208.0  209.0  207.0  209.0  ...   \n",
            "8   200.0  192.0  195.0  204.0  211.0  201.0  205.0  205.0  206.0  209.0  ...   \n",
            "9   220.0  221.0  224.0  225.0  224.0  223.0  219.0  223.0  226.0  227.0  ...   \n",
            "10  196.0  189.0  189.0  187.0  221.0  198.0  189.0  190.0  187.0  190.0  ...   \n",
            "11  185.0  185.0  184.0  184.0  185.0  186.0  187.0  183.0  184.0  186.0  ...   \n",
            "12  198.0  203.0  209.0  206.0  201.0  199.0  203.0  205.0  208.0  201.0  ...   \n",
            "13  215.0  209.0  212.0  218.0  210.0  207.0  218.0  210.0  207.0  211.0  ...   \n",
            "14  216.0  217.0  218.0  217.0  217.0  216.0  217.0  218.0  220.0  219.0  ...   \n",
            "15  217.0  216.0  216.0  216.0  216.0  216.0  218.0  216.0  215.0  213.0  ...   \n",
            "16  192.0  194.0  193.0  191.0  192.0  191.0  192.0  191.0  189.0  189.0  ...   \n",
            "17  188.0  192.0  190.0  191.0  192.0  193.0  187.0  192.0  189.0  191.0  ...   \n",
            "18  199.0  197.0  198.0  199.0  197.0  196.0  198.0  196.0  198.0  197.0  ...   \n",
            "19  196.0  198.0  200.0  203.0  204.0  207.0  195.0  201.0  202.0  203.0  ...   \n",
            "20  133.0  132.0  129.0  132.0  132.0  135.0  133.0  134.0  132.0  132.0  ...   \n",
            "21  203.0  206.0  206.0  195.0  199.0  202.0  207.0  206.0  202.0  200.0  ...   \n",
            "22  162.0  157.0  159.0  165.0  161.0  162.0  161.0  163.0  166.0  161.0  ...   \n",
            "23  165.0  160.0  166.0  171.0  162.0  163.0  172.0  163.0  167.0  169.0  ...   \n",
            "24  186.0  188.0  191.0  187.0  197.0  199.0  188.0  193.0  198.0  194.0  ...   \n",
            "25  203.0  199.0  197.0  199.0  201.0  202.0  198.0  200.0  198.0  196.0  ...   \n",
            "26  214.0  215.0  218.0  210.0  200.0  204.0  218.0  217.0  217.0  210.0  ...   \n",
            "27  207.0  209.0  212.0  213.0  215.0  214.0  206.0  205.0  208.0  212.0  ...   \n",
            "28  224.0  225.0  222.0  213.0  215.0  216.0  227.0  224.0  224.0  218.0  ...   \n",
            "29  173.0  170.0  169.0  168.0  164.0  165.0  178.0  168.0  166.0  167.0  ...   \n",
            "30  198.0  200.0  196.0  194.0  191.0  190.0  201.0  203.0  197.0  192.0  ...   \n",
            "31  190.0  191.0  187.0  190.0  181.0  183.0  188.0  189.0  188.0  190.0  ...   \n",
            "32  191.0  198.0  193.0  189.0  194.0  193.0  197.0  197.0  193.0  194.0  ...   \n",
            "33  201.0  201.0  202.0  200.0  199.0  201.0  197.0  195.0  198.0  199.0  ...   \n",
            "34  182.0  188.0  183.0  172.0  184.0  185.0  185.0  185.0  179.0  172.0  ...   \n",
            "35  126.0  125.0  126.0  123.0  125.0  123.0  126.0  125.0  126.0  126.0  ...   \n",
            "36  214.0  213.0  215.0  218.0  220.0  213.0  210.0  211.0  217.0  218.0  ...   \n",
            "37  205.0  204.0  206.0  211.0  208.0  210.0  207.0  202.0  210.0  213.0  ...   \n",
            "38  162.0  164.0  161.0  160.0  156.0  159.0  162.0  164.0  161.0  159.0  ...   \n",
            "39  182.0  183.0  180.0  182.0  183.0  183.0  183.0  182.0  179.0  191.0  ...   \n",
            "40  173.0  172.0  163.0  165.0  175.0  177.0  171.0  172.0  168.0  166.0  ...   \n",
            "41  180.0  181.0  183.0  179.0  172.0  166.0  184.0  186.0  172.0  179.0  ...   \n",
            "42  174.0  169.0  168.0  172.0  169.0  168.0  172.0  164.0  168.0  162.0  ...   \n",
            "43  196.0  194.0  194.0  194.0  192.0  185.0  193.0  194.0  192.0  193.0  ...   \n",
            "44  185.0  187.0  181.0  183.0  185.0  185.0  191.0  188.0  186.0  184.0  ...   \n",
            "45  191.0  191.0  195.0  192.0  190.0  187.0  189.0  196.0  194.0  195.0  ...   \n",
            "46  155.0  150.0  155.0  156.0  156.0  156.0  156.0  152.0  155.0  155.0  ...   \n",
            "47  210.0  202.0  200.0  206.0  202.0  195.0  209.0  205.0  201.0  204.0  ...   \n",
            "48  214.0  210.0  213.0  212.0  215.0  210.0  209.0  209.0  209.0  209.0  ...   \n",
            "49  163.0  155.0  161.0  164.0  174.0  176.0  167.0  158.0  163.0  159.0  ...   \n",
            "50  197.0  193.0  183.0  182.0  186.0  188.0  192.0  176.0  182.0  181.0  ...   \n",
            "51  166.0  164.0  170.0  172.0  172.0  180.0  169.0  164.0  177.0  171.0  ...   \n",
            "52  212.0  214.0  216.0  212.0  213.0  214.0  208.0  212.0  218.0  217.0  ...   \n",
            "53  173.0  171.0  171.0  164.0  167.0  173.0  171.0  173.0  170.0  168.0  ...   \n",
            "54  176.0  183.0  180.0  172.0  172.0  169.0  179.0  179.0  179.0  176.0  ...   \n",
            "55  204.0  194.0  197.0  196.0  196.0  197.0  204.0  209.0  203.0  197.0  ...   \n",
            "56  178.0  180.0  174.0  173.0  167.0  165.0  179.0  176.0  173.0  170.0  ...   \n",
            "57  224.0  219.0  218.0  215.0  222.0  222.0  224.0  220.0  222.0  219.0  ...   \n",
            "58  125.0  127.0  126.0  128.0  128.0  129.0  125.0  126.0  128.0  130.0  ...   \n",
            "59  125.0  134.0  133.0  134.0  135.0  133.0  119.0  126.0  134.0  134.0  ...   \n",
            "60  217.0  214.0  216.0  221.0  217.0  213.0  213.0  221.0  222.0  220.0  ...   \n",
            "61  186.0  183.0  182.0  175.0  176.0  176.0  186.0  183.0  180.0  177.0  ...   \n",
            "62  190.0  178.0  187.0  196.0  201.0  206.0  188.0  191.0  198.0  190.0  ...   \n",
            "63  183.0  187.0  186.0  179.0  165.0  173.0  182.0  184.0  177.0  187.0  ...   \n",
            "64  188.0  187.0  188.0  184.0  181.0  193.0  190.0  192.0  188.0  191.0  ...   \n",
            "65  121.0  126.0  127.0  127.0  128.0  125.0  125.0  127.0  130.0  130.0  ...   \n",
            "66  118.0  120.0  120.0  117.0  115.0  112.0  118.0  121.0  119.0  119.0  ...   \n",
            "67  162.0  169.0  166.0  163.0  171.0  174.0  169.0  174.0  165.0  165.0  ...   \n",
            "68  207.0  205.0  200.0  197.0  197.0  194.0  205.0  203.0  200.0  202.0  ...   \n",
            "69  209.0  207.0  202.0  201.0  204.0  206.0  194.0  202.0  204.0  194.0  ...   \n",
            "70  158.0  158.0  163.0  158.0  164.0  165.0  156.0  161.0  161.0  161.0  ...   \n",
            "71  202.0  197.0  201.0  198.0  193.0  194.0  193.0  196.0  198.0  194.0  ...   \n",
            "72  185.0  186.0  186.0  182.0  175.0  177.0  181.0  179.0  184.0  182.0  ...   \n",
            "73  179.0  178.0  175.0  178.0  177.0  180.0  177.0  175.0  176.0  177.0  ...   \n",
            "74  185.0  181.0  181.0  177.0  169.0  182.0  184.0  181.0  181.0  176.0  ...   \n",
            "75  216.0  213.0  210.0  207.0  207.0  204.0  211.0  211.0  208.0  206.0  ...   \n",
            "76  171.0  175.0  171.0  161.0  177.0  160.0  182.0  154.0  167.0  165.0  ...   \n",
            "77  212.0  213.0  216.0  226.0  220.0  217.0  203.0  215.0  218.0  216.0  ...   \n",
            "78  179.0  173.0  165.0  168.0  157.0  158.0  172.0  165.0  169.0  162.0  ...   \n",
            "79  157.0  159.0  158.0  156.0  152.0  152.0  160.0  164.0  158.0  155.0  ...   \n",
            "80  182.0  180.0  182.0  177.0  180.0  184.0  180.0  179.0  179.0  180.0  ...   \n",
            "81  188.0  185.0  182.0  181.0  181.0  178.0  186.0  185.0  184.0  181.0  ...   \n",
            "82  181.0  183.0  183.0  181.0  182.0  176.0  183.0  183.0  179.0  180.0  ...   \n",
            "83  166.0  193.0  196.0  201.0  196.0  193.0  190.0  195.0  202.0  203.0  ...   \n",
            "84  163.0  159.0  159.0  160.0  158.0  158.0  158.0  157.0  157.0  158.0  ...   \n",
            "85  189.0  196.0  197.0  194.0  197.0  193.0  191.0  201.0  194.0  193.0  ...   \n",
            "86  178.0  183.0  182.0  182.0  185.0  180.0  180.0  175.0  185.0  187.0  ...   \n",
            "87  179.0  174.0  176.0  180.0  175.0  179.0  181.0  172.0  180.0  174.0  ...   \n",
            "88  188.0  189.0  188.0  187.0  183.0  182.0  186.0  191.0  191.0  186.0  ...   \n",
            "89  190.0  186.0  182.0  180.0  187.0  183.0  189.0  185.0  182.0  180.0  ...   \n",
            "90  221.0  226.0  220.0  220.0  219.0  220.0  227.0  224.0  221.0  222.0  ...   \n",
            "91  140.0  132.0  132.0  141.0  135.0  119.0  155.0  135.0  136.0  134.0  ...   \n",
            "92  159.0  167.0  174.0  172.0  166.0  167.0  163.0  168.0  173.0  174.0  ...   \n",
            "93  191.0  191.0  194.0  186.0  187.0  184.0  197.0  198.0  196.0  190.0  ...   \n",
            "94  218.0  220.0  211.0  208.0  202.0  194.0  221.0  217.0  215.0  211.0  ...   \n",
            "95  193.0  196.0  196.0  191.0  191.0  187.0  197.0  196.0  196.0  195.0  ...   \n",
            "96  149.0  154.0  151.0  154.0  153.0  156.0  156.0  155.0  154.0  155.0  ...   \n",
            "97  179.0  176.0  170.0  166.0  165.0  172.0  177.0  174.0  158.0  160.0  ...   \n",
            "98  221.0  214.0  212.0  221.0  213.0  207.0  208.0  213.0  210.0  222.0  ...   \n",
            "99  213.0  204.0  197.0  204.0  200.0  202.0  203.0  206.0  200.0  203.0  ...   \n",
            "\n",
            "       27     28     29     30     31     32     33     34     35   36  \n",
            "0   118.0  137.0  137.0  138.0  137.0  139.0  117.0  132.0  140.0  1.0  \n",
            "1   143.0  159.0  157.0  147.0  154.0  151.0  153.0  157.0  155.0  1.0  \n",
            "2   134.0  135.0  149.0  152.0  151.0  154.0  137.0  130.0  151.0  1.0  \n",
            "3   151.0  161.0  154.0  157.0  156.0  138.0  159.0  159.0  156.0  1.0  \n",
            "4   132.0  135.0  148.0  146.0  146.0  149.0  134.0  131.0  148.0  1.0  \n",
            "5   129.0  145.0  144.0  146.0  148.0  125.0  141.0  145.0  147.0  1.0  \n",
            "6   146.0  148.0  147.0  152.0  155.0  127.0  142.0  149.0  150.0  1.0  \n",
            "7   137.0  149.0  147.0  148.0  150.0  140.0  139.0  152.0  150.0  1.0  \n",
            "8   147.0  149.0  150.0  158.0  130.0  147.0  153.0  148.0  148.0  1.0  \n",
            "9   148.0  150.0  156.0  158.0  143.0  141.0  152.0  158.0  161.0  1.0  \n",
            "10  147.0  145.0  147.0  156.0  155.0  155.0  152.0  147.0  151.0  1.0  \n",
            "11  147.0  142.0  141.0  160.0  150.0  153.0  150.0  149.0  149.0  1.0  \n",
            "12  150.0  147.0  142.0  154.0  151.0  150.0  152.0  151.0  151.0  1.0  \n",
            "13  141.0  140.0  139.0  153.0  149.0  147.0  144.0  143.0  145.0  1.0  \n",
            "14  137.0  149.0  152.0  148.0  144.0  133.0  145.0  148.0  152.0  1.0  \n",
            "15  181.0  169.0  186.0  197.0  188.0  195.0  194.0  192.0  174.0  1.0  \n",
            "16  182.0  169.0  171.0  193.0  200.0  196.0  195.0  189.0  188.0  1.0  \n",
            "17  142.0  164.0  162.0  193.0  183.0  168.0  154.0  144.0  162.0  1.0  \n",
            "18  145.0  137.0  148.0  168.0  160.0  156.0  156.0  143.0  139.0  1.0  \n",
            "19  164.0  147.0  148.0  158.0  158.0  162.0  159.0  162.0  164.0  1.0  \n",
            "20  166.0  164.0  162.0  185.0  181.0  193.0  171.0  165.0  167.0  1.0  \n",
            "21  177.0  172.0  176.0  171.0  160.0  167.0  169.0  167.0  166.0  1.0  \n",
            "22  192.0  198.0  200.0  154.0  166.0  172.0  191.0  196.0  193.0  1.0  \n",
            "23  161.0  156.0  154.0  189.0  192.0  179.0  165.0  157.0  156.0  1.0  \n",
            "24  154.0  145.0  159.0  152.0  145.0  151.0  148.0  144.0  141.0  1.0  \n",
            "25  171.0  176.0  175.0  152.0  162.0  167.0  177.0  173.0  167.0  1.0  \n",
            "26  176.0  159.0  139.0  173.0  177.0  185.0  182.0  179.0  166.0  1.0  \n",
            "27  160.0  157.0  154.0  180.0  168.0  164.0  172.0  178.0  175.0  1.0  \n",
            "28  154.0  157.0  152.0  175.0  179.0  169.0  161.0  156.0  162.0  1.0  \n",
            "29  152.0  142.0  136.0  159.0  156.0  158.0  144.0  136.0  143.0  1.0  \n",
            "30  157.0  158.0  165.0  162.0  162.0  154.0  162.0  156.0  157.0  1.0  \n",
            "31  177.0  152.0  143.0  213.0  217.0  202.0  206.0  206.0  177.0  1.0  \n",
            "32  190.0  182.0  179.0  204.0  194.0  189.0  191.0  192.0  186.0  1.0  \n",
            "33  197.0  177.0  176.0  191.0  203.0  197.0  186.0  177.0  198.0  1.0  \n",
            "34  116.0  119.0  109.0   99.0  100.0  115.0  113.0  110.0  106.0  1.0  \n",
            "35  108.0   76.0   88.0  121.0  119.0  119.0  105.0   74.0  107.0  1.0  \n",
            "36   85.0   96.0  123.0  109.0  116.0  109.0   87.0  115.0  120.0  1.0  \n",
            "37   94.0  129.0  121.0  123.0  122.0   88.0  100.0  115.0  124.0  1.0  \n",
            "38   78.0  136.0  130.0  125.0  131.0   98.0   78.0  131.0  129.0  1.0  \n",
            "39  134.0  122.0  118.0  112.0   90.0   60.0  110.0  118.0  128.0  1.0  \n",
            "40  108.0   68.0  123.0  117.0  116.0  112.0  112.0   76.0  110.0  1.0  \n",
            "41  100.0   84.0  135.0  120.0  104.0  119.0   87.0  101.0  135.0  1.0  \n",
            "42   94.0  129.0  125.0  122.0  127.0   87.0  112.0  133.0  128.0  1.0  \n",
            "43   90.0   83.0  129.0  116.0  116.0  117.0   94.0   75.0  128.0  1.0  \n",
            "44  109.0  113.0  117.0  112.0   95.0  106.0  118.0  120.0  120.0  1.0  \n",
            "45   72.0  119.0  119.0  114.0  116.0   90.0   78.0  124.0  116.0  1.0  \n",
            "46  127.0  125.0  129.0  102.0  102.0  122.0  118.0  120.0  127.0  1.0  \n",
            "47  127.0  120.0  120.0  111.0   90.0   79.0  127.0  118.0  121.0  1.0  \n",
            "48  126.0  125.0  126.0  102.0   95.0  133.0  123.0  126.0  126.0  1.0  \n",
            "49  115.0  117.0  159.0  147.0  148.0  145.0  118.0   97.0  152.0  1.0  \n",
            "50  148.0  147.0  146.0  148.0  152.0  112.0  111.0  159.0  150.0  1.0  \n",
            "51  151.0  143.0  148.0  148.0  146.0   76.0   90.0  152.0  149.0  1.0  \n",
            "52  102.0  158.0  148.0  141.0  141.0  143.0   84.0  124.0  155.0  1.0  \n",
            "53   97.0  133.0  140.0  135.0  135.0  134.0  114.0  135.0  131.0  1.0  \n",
            "54  109.0  101.0  128.0  129.0  131.0  133.0  134.0  108.0  118.0  1.0  \n",
            "55  104.0  155.0  145.0  139.0  138.0  127.0   71.0  141.0  149.0  1.0  \n",
            "56  140.0  142.0  145.0  132.0  114.0  141.0  132.0  142.0  143.0  1.0  \n",
            "57  105.0   92.0  148.0  133.0  119.0  119.0  121.0   91.0  141.0  1.0  \n",
            "58  135.0  139.0  137.0  124.0  128.0  107.0  129.0  142.0  141.0  1.0  \n",
            "59   77.0  105.0  135.0  124.0  122.0  125.0  130.0   88.0   93.0  1.0  \n",
            "60   88.0  135.0  128.0  132.0  131.0  129.0   66.0  118.0  137.0  1.0  \n",
            "61   80.0  113.0  125.0  139.0  133.0  136.0  103.0   81.0  126.0  1.0  \n",
            "62  105.0  130.0  116.0  134.0  131.0  135.0   99.0  130.0  119.0  1.0  \n",
            "63  101.0  129.0  134.0  135.0  128.0  134.0  113.0  122.0  129.0  1.0  \n",
            "64  126.0  112.0  130.0  135.0  135.0  133.0  138.0  133.0  124.0  1.0  \n",
            "65  114.0  144.0  147.0  108.0  136.0  126.0  114.0  130.0  152.0  1.0  \n",
            "66  131.0  127.0   79.0  137.0  139.0  137.0  135.0  130.0  125.0  1.0  \n",
            "67  155.0  144.0  145.0  124.0  122.0  103.0  128.0  149.0  147.0  1.0  \n",
            "68   74.0  128.0  144.0  133.0  129.0  122.0  108.0   80.0   80.0  1.0  \n",
            "69   84.0  124.0  118.0  125.0  127.0  124.0   95.0  118.0  116.0  1.0  \n",
            "70  114.0  129.0  125.0  124.0  125.0   79.0  106.0  132.0  127.0  1.0  \n",
            "71   79.0   86.0  120.0  122.0  116.0  113.0  121.0   95.0   71.0  1.0  \n",
            "72   66.0  114.0  122.0  116.0  110.0  120.0  103.0   68.0  104.0  1.0  \n",
            "73   79.0  131.0  121.0  120.0  123.0  120.0   80.0  103.0  128.0  1.0  \n",
            "74   74.0   93.0  124.0  112.0  113.0  117.0  118.0   60.0   83.0  1.0  \n",
            "75   50.0   69.0   79.0  112.0  111.0  116.0   99.0   91.0  101.0  1.0  \n",
            "76   80.0   57.0  112.0  107.0  111.0  111.0  121.0   91.0   69.0  1.0  \n",
            "77   76.0  118.0  104.0  120.0  119.0  120.0   92.0   81.0   74.0  1.0  \n",
            "78   76.0  101.0  128.0  119.0  114.0  114.0  119.0   68.0  111.0  1.0  \n",
            "79   92.0   93.0   78.0  120.0  120.0  121.0  121.0  121.0  120.0  1.0  \n",
            "80  106.0   71.0   61.0  117.0  113.0  112.0  117.0  112.0  103.0  1.0  \n",
            "81   49.0   76.0  123.0  117.0  114.0  119.0  101.0   50.0   93.0  1.0  \n",
            "82  107.0  129.0  126.0  120.0  116.0  108.0   93.0  100.0  132.0  1.0  \n",
            "83   82.0   90.0  126.0  121.0  120.0  125.0  127.0   96.0   85.0  1.0  \n",
            "84   61.0   79.0  124.0  120.0  126.0  131.0  110.0   84.0   78.0  1.0  \n",
            "85   97.0   80.0   82.0  122.0  122.0  125.0  128.0  124.0   96.0  1.0  \n",
            "86  126.0  126.0   88.0  151.0  147.0  145.0  157.0  162.0  133.0  1.0  \n",
            "87   99.0  122.0  147.0  158.0  161.0  150.0  141.0   85.0  127.0  1.0  \n",
            "88  106.0  144.0  130.0  145.0  147.0  134.0  103.0  151.0  140.0  1.0  \n",
            "89  127.0  151.0  136.0  134.0  134.0  134.0   74.0   98.0  138.0  1.0  \n",
            "90  119.0  106.0  115.0  138.0  122.0   71.0   89.0   94.0  114.0  1.0  \n",
            "91   70.0   87.0  104.0  127.0  119.0  112.0   90.0   73.0   57.0  1.0  \n",
            "92   72.0   66.0   53.0  125.0  115.0  119.0  113.0  122.0  108.0  1.0  \n",
            "93  148.0  156.0  155.0  151.0  170.0  160.0  154.0  168.0  158.0  1.0  \n",
            "94  120.0  112.0  141.0  104.0  105.0   85.0   93.0  128.0  124.0  1.0  \n",
            "95   67.0   93.0  119.0  126.0  135.0  137.0  106.0  105.0  120.0  1.0  \n",
            "96  160.0  144.0  121.0  129.0  142.0  157.0  149.0  124.0  124.0  1.0  \n",
            "97  108.0  123.0  113.0  133.0  144.0  109.0   83.0  126.0  117.0  1.0  \n",
            "98   91.0  111.0  132.0  135.0  131.0  133.0  122.0   84.0  114.0  1.0  \n",
            "99   91.0   89.0   93.0  126.0  121.0  120.0  124.0  139.0  141.0  1.0  \n",
            "0   166.0  168.0  170.0  159.0  166.0  167.0  167.0  168.0  167.0 -1.0  \n",
            "1   153.0  161.0  161.0  150.0  155.0  152.0  149.0  157.0  156.0 -1.0  \n",
            "2   182.0  183.0  185.0  165.0  186.0  183.0  179.0  169.0  168.0 -1.0  \n",
            "3   200.0  201.0  202.0  201.0  203.0  203.0  199.0  199.0  201.0 -1.0  \n",
            "4   204.0  206.0  204.0  196.0  199.0  199.0  201.0  203.0  205.0 -1.0  \n",
            "5   180.0  176.0  175.0  173.0  175.0  178.0  181.0  176.0  177.0 -1.0  \n",
            "6   173.0  187.0  186.0  176.0  155.0  170.0  180.0  181.0  180.0 -1.0  \n",
            "7   206.0  211.0  209.0  204.0  206.0  205.0  205.0  208.0  206.0 -1.0  \n",
            "8   205.0  221.0  220.0  215.0  209.0  204.0  208.0  213.0  213.0 -1.0  \n",
            "9   227.0  228.0  227.0  223.0  225.0  225.0  227.0  227.0  226.0 -1.0  \n",
            "10  193.0  194.0  197.0  197.0  196.0  198.0  193.0  192.0  195.0 -1.0  \n",
            "11  188.0  187.0  188.0  193.0  192.0  190.0  190.0  188.0  185.0 -1.0  \n",
            "12  201.0  202.0  203.0  207.0  204.0  205.0  205.0  204.0  203.0 -1.0  \n",
            "13  210.0  208.0  205.0  211.0  208.0  210.0  211.0  209.0  208.0 -1.0  \n",
            "14  222.0  221.0  219.0  221.0  220.0  220.0  222.0  220.0  219.0 -1.0  \n",
            "15  216.0  214.0  214.0  215.0  214.0  213.0  214.0  213.0  211.0 -1.0  \n",
            "16  186.0  189.0  191.0  186.0  187.0  185.0  186.0  189.0  187.0 -1.0  \n",
            "17  190.0  191.0  190.0  190.0  190.0  188.0  190.0  190.0  189.0 -1.0  \n",
            "18  200.0  199.0  199.0  200.0  199.0  197.0  198.0  199.0  199.0 -1.0  \n",
            "19  202.0  207.0  207.0  198.0  199.0  201.0  202.0  206.0  205.0 -1.0  \n",
            "20  132.0  130.0  130.0  131.0  125.0  127.0  129.0  129.0  130.0 -1.0  \n",
            "21  202.0  199.0  197.0  206.0  205.0  205.0  197.0  195.0  203.0 -1.0  \n",
            "22  165.0  166.0  171.0  165.0  169.0  166.0  164.0  167.0  170.0 -1.0  \n",
            "23  172.0  176.0  163.0  177.0  174.0  174.0  176.0  183.0  173.0 -1.0  \n",
            "24  199.0  204.0  207.0  211.0  210.0  212.0  202.0  205.0  211.0 -1.0  \n",
            "25  198.0  198.0  197.0  201.0  202.0  197.0  200.0  199.0  196.0 -1.0  \n",
            "26  218.0  214.0  213.0  224.0  224.0  220.0  218.0  216.0  213.0 -1.0  \n",
            "27  210.0  206.0  207.0  206.0  207.0  207.0  209.0  208.0  206.0 -1.0  \n",
            "28  215.0  214.0  214.0  218.0  217.0  217.0  213.0  212.0  212.0 -1.0  \n",
            "29  175.0  167.0  172.0  180.0  179.0  177.0  175.0  181.0  185.0 -1.0  \n",
            "30  187.0  188.0  187.0  173.0  182.0  187.0  192.0  186.0  187.0 -1.0  \n",
            "31  182.0  178.0  177.0  181.0  185.0  183.0  182.0  176.0  173.0 -1.0  \n",
            "32  198.0  194.0  189.0  196.0  196.0  197.0  194.0  192.0  185.0 -1.0  \n",
            "33  195.0  196.0  195.0  194.0  194.0  195.0  194.0  190.0  187.0 -1.0  \n",
            "34  185.0  185.0  183.0  182.0  182.0  184.0  186.0  186.0  184.0 -1.0  \n",
            "35  130.0  127.0  126.0  131.0  129.0  122.0  122.0  127.0  124.0 -1.0  \n",
            "36  219.0  207.0  203.0  210.0  210.0  211.0  205.0  199.0  206.0 -1.0  \n",
            "37  212.0  215.0  215.0  211.0  210.0  211.0  210.0  213.0  213.0 -1.0  \n",
            "38  154.0  155.0  156.0  154.0  152.0  156.0  153.0  155.0  154.0 -1.0  \n",
            "39  177.0  171.0  170.0  178.0  177.0  174.0  176.0  167.0  168.0 -1.0  \n",
            "40  169.0  166.0  169.0  180.0  179.0  179.0  176.0  170.0  169.0 -1.0  \n",
            "41  167.0  171.0  181.0  155.0  163.0  170.0  168.0  170.0  177.0 -1.0  \n",
            "42  178.0  180.0  175.0  173.0  175.0  171.0  174.0  176.0  166.0 -1.0  \n",
            "43  185.0  188.0  187.0  167.0  160.0  171.0  188.0  184.0  185.0 -1.0  \n",
            "44  189.0  189.0  184.0  188.0  187.0  189.0  189.0  186.0  187.0 -1.0  \n",
            "45  189.0  188.0  186.0  187.0  187.0  186.0  187.0  187.0  185.0 -1.0  \n",
            "46  154.0  154.0  152.0  157.0  155.0  151.0  151.0  154.0  153.0 -1.0  \n",
            "47  209.0  204.0  202.0  206.0  204.0  206.0  202.0  196.0  205.0 -1.0  \n",
            "48  206.0  207.0  208.0  208.0  209.0  206.0  206.0  210.0  210.0 -1.0  \n",
            "49  152.0  160.0  158.0  159.0  159.0  158.0  162.0  153.0  163.0 -1.0  \n",
            "50  186.0  189.0  192.0  180.0  177.0  185.0  192.0  191.0  189.0 -1.0  \n",
            "51  173.0  178.0  174.0  171.0  168.0  172.0  167.0  176.0  167.0 -1.0  \n",
            "52  215.0  215.0  218.0  217.0  218.0  217.0  215.0  216.0  215.0 -1.0  \n",
            "53  168.0  164.0  166.0  171.0  165.0  158.0  168.0  172.0  173.0 -1.0  \n",
            "54  179.0  174.0  172.0  177.0  180.0  183.0  178.0  174.0  170.0 -1.0  \n",
            "55  207.0  207.0  206.0  210.0  206.0  211.0  214.0  214.0  211.0 -1.0  \n",
            "56  164.0  163.0  157.0  174.0  170.0  159.0  164.0  165.0  161.0 -1.0  \n",
            "57  218.0  217.0  217.0  222.0  222.0  220.0  219.0  221.0  223.0 -1.0  \n",
            "58  135.0  126.0  127.0  128.0  129.0  139.0  132.0  129.0  128.0 -1.0  \n",
            "59  126.0  117.0  117.0  119.0  113.0  131.0  122.0  116.0  122.0 -1.0  \n",
            "60  215.0  217.0  221.0  217.0  220.0  218.0  214.0  216.0  218.0 -1.0  \n",
            "61  185.0  176.0  179.0  188.0  182.0  186.0  191.0  186.0  194.0 -1.0  \n",
            "62  214.0  191.0  193.0  195.0  208.0  214.0  207.0  199.0  205.0 -1.0  \n",
            "63  188.0  186.0  191.0  189.0  188.0  192.0  187.0  189.0  191.0 -1.0  \n",
            "64  193.0  183.0  189.0  194.0  188.0  190.0  189.0  175.0  190.0 -1.0  \n",
            "65  131.0  132.0  132.0  127.0  129.0  131.0  130.0  133.0  133.0 -1.0  \n",
            "66  117.0  120.0  122.0  127.0  121.0  118.0  122.0  123.0  121.0 -1.0  \n",
            "67  167.0  173.0  172.0  157.0  166.0  166.0  173.0  175.0  173.0 -1.0  \n",
            "68  206.0  205.0  205.0  209.0  205.0  207.0  206.0  208.0  205.0 -1.0  \n",
            "69  196.0  200.0  179.0  185.0  187.0  182.0  190.0  187.0  147.0 -1.0  \n",
            "70  175.0  173.0  174.0  168.0  173.0  176.0  173.0  171.0  169.0 -1.0  \n",
            "71  185.0  185.0  182.0  198.0  208.0  198.0  187.0  188.0  189.0 -1.0  \n",
            "72  171.0  168.0  163.0  182.0  183.0  175.0  165.0  162.0  159.0 -1.0  \n",
            "73  169.0  163.0  172.0  176.0  167.0  171.0  168.0  167.0  176.0 -1.0  \n",
            "74  178.0  181.0  176.0  170.0  170.0  173.0  175.0  176.0  179.0 -1.0  \n",
            "75  204.0  206.0  204.0  207.0  207.0  212.0  211.0  204.0  201.0 -1.0  \n",
            "76  160.0  165.0  167.0  183.0  162.0  166.0  162.0  172.0  167.0 -1.0  \n",
            "77  212.0  219.0  219.0  208.0  199.0  207.0  212.0  211.0  210.0 -1.0  \n",
            "78  164.0  163.0  157.0  164.0  177.0  161.0  161.0  159.0  159.0 -1.0  \n",
            "79  158.0  155.0  151.0  161.0  158.0  150.0  150.0  154.0  153.0 -1.0  \n",
            "80  180.0  177.0  179.0  176.0  180.0  178.0  177.0  174.0  178.0 -1.0  \n",
            "81  187.0  188.0  184.0  190.0  188.0  186.0  186.0  189.0  182.0 -1.0  \n",
            "82  178.0  179.0  177.0  179.0  175.0  183.0  184.0  178.0  178.0 -1.0  \n",
            "83  188.0  197.0  195.0  200.0  196.0  190.0  188.0  192.0  196.0 -1.0  \n",
            "84  156.0  158.0  157.0  157.0  158.0  158.0  158.0  158.0  161.0 -1.0  \n",
            "85  177.0  187.0  191.0  182.0  185.0  174.0  169.0  183.0  192.0 -1.0  \n",
            "86  179.0  172.0  175.0  188.0  186.0  181.0  180.0  173.0  174.0 -1.0  \n",
            "87  175.0  175.0  178.0  178.0  178.0  181.0  178.0  176.0  178.0 -1.0  \n",
            "88  189.0  191.0  197.0  191.0  193.0  191.0  187.0  189.0  193.0 -1.0  \n",
            "89  189.0  188.0  184.0  192.0  187.0  184.0  187.0  191.0  185.0 -1.0  \n",
            "90  217.0  224.0  224.0  228.0  223.0  223.0  224.0  222.0  223.0 -1.0  \n",
            "91  160.0  154.0  134.0  158.0  162.0  159.0  146.0  145.0  137.0 -1.0  \n",
            "92  169.0  163.0  166.0  166.0  164.0  166.0  173.0  171.0  170.0 -1.0  \n",
            "93  195.0  197.0  191.0  195.0  196.0  196.0  195.0  195.0  192.0 -1.0  \n",
            "94  204.0  189.0  208.0  222.0  205.0  199.0  201.0  204.0  208.0 -1.0  \n",
            "95  199.0  196.0  191.0  191.0  200.0  193.0  193.0  191.0  190.0 -1.0  \n",
            "96  152.0  151.0  149.0  153.0  152.0  150.0  150.0  151.0  149.0 -1.0  \n",
            "97  176.0  179.0  179.0  184.0  180.0  181.0  176.0  178.0  177.0 -1.0  \n",
            "98  198.0  216.0  214.0  210.0  211.0  202.0  205.0  219.0  214.0 -1.0  \n",
            "99  208.0  203.0  205.0  211.0  208.0  207.0  203.0  209.0  210.0 -1.0  \n",
            "\n",
            "[200 rows x 37 columns]\n"
          ]
        }
      ]
    },
    {
      "cell_type": "code",
      "metadata": {
        "scrolled": true,
        "tags": [],
        "id": "HaXUa0iMNwfH",
        "outputId": "6922ccb2-7994-4282-9d7f-4d6e38c37f91"
      },
      "source": [
        "df_concat = df_concat.sort_index(axis=0, level=None, ascending=True, inplace=False, kind='mergesort', na_position='last', sort_remaining=True, ignore_index=True, key=None)\n",
        "print(df_concat)"
      ],
      "execution_count": null,
      "outputs": [
        {
          "name": "stdout",
          "output_type": "stream",
          "text": [
            "        0      1      2      3      4      5      6      7      8      9   \\\n",
            "0    139.0  121.0  115.0  138.0  135.0  137.0  138.0  132.0  114.0  137.0   \n",
            "1    163.0  164.0  164.0  162.0  162.0  164.0  158.0  161.0  159.0  165.0   \n",
            "2    153.0  153.0  152.0  160.0  148.0  155.0  154.0  156.0  153.0  156.0   \n",
            "3    157.0  163.0  162.0  154.0  154.0  150.0  152.0  159.0  162.0  165.0   \n",
            "4    147.0  148.0  147.0  149.0  126.0  141.0  146.0  146.0  148.0  142.0   \n",
            "5    173.0  203.0  185.0  168.0  182.0  169.0  158.0  181.0  181.0  183.0   \n",
            "6    160.0  162.0  161.0  146.0  137.0  152.0  160.0  161.0  161.0  147.0   \n",
            "7    203.0  200.0  199.0  197.0  198.0  202.0  202.0  200.0  199.0  199.0   \n",
            "8    153.0  151.0  155.0  140.0  138.0  153.0  151.0  151.0  153.0  138.0   \n",
            "9    199.0  200.0  199.0  197.0  197.0  198.0  200.0  200.0  192.0  192.0   \n",
            "10   160.0  155.0  142.0  145.0  120.0  132.0  153.0  150.0  143.0  146.0   \n",
            "11   186.0  186.0  186.0  185.0  183.0  178.0  187.0  185.0  185.0  185.0   \n",
            "12   156.0  128.0  116.0  153.0  151.0  151.0  155.0  143.0  109.0  152.0   \n",
            "13   151.0  154.0  161.0  174.0  173.0  202.0  171.0  171.0  181.0  178.0   \n",
            "14   148.0  142.0  136.0  148.0  148.0  151.0  147.0  143.0  125.0  146.0   \n",
            "15   212.0  211.0  209.0  209.0  214.0  214.0  208.0  209.0  207.0  209.0   \n",
            "16   154.0  130.0  142.0  149.0  147.0  146.0  157.0  134.0  136.0  150.0   \n",
            "17   200.0  192.0  195.0  204.0  211.0  201.0  205.0  205.0  206.0  209.0   \n",
            "18   150.0  135.0  132.0  149.0  147.0  150.0  149.0  144.0  136.0  151.0   \n",
            "19   220.0  221.0  224.0  225.0  224.0  223.0  219.0  223.0  226.0  227.0   \n",
            "20   155.0  153.0  158.0  152.0  153.0  165.0  157.0  153.0  157.0  153.0   \n",
            "21   196.0  189.0  189.0  187.0  221.0  198.0  189.0  190.0  187.0  190.0   \n",
            "22   152.0  158.0  156.0  148.0  149.0  150.0  149.0  155.0  156.0  149.0   \n",
            "23   185.0  185.0  184.0  184.0  185.0  186.0  187.0  183.0  184.0  186.0   \n",
            "24   147.0  145.0  150.0  153.0  150.0  146.0  149.0  148.0  150.0  152.0   \n",
            "25   198.0  203.0  209.0  206.0  201.0  199.0  203.0  205.0  208.0  201.0   \n",
            "26   152.0  147.0  146.0  142.0  141.0  140.0  148.0  148.0  148.0  143.0   \n",
            "27   215.0  209.0  212.0  218.0  210.0  207.0  218.0  210.0  207.0  211.0   \n",
            "28   151.0  151.0  153.0  147.0  151.0  159.0  147.0  147.0  155.0  145.0   \n",
            "29   216.0  217.0  218.0  217.0  217.0  216.0  217.0  218.0  220.0  219.0   \n",
            "30   188.0  187.0  198.0  213.0  216.0  206.0  180.0  192.0  199.0  199.0   \n",
            "31   217.0  216.0  216.0  216.0  216.0  216.0  218.0  216.0  215.0  213.0   \n",
            "32   212.0  207.0  202.0  204.0  210.0  212.0  183.0  192.0  208.0  206.0   \n",
            "33   192.0  194.0  193.0  191.0  192.0  191.0  192.0  191.0  189.0  189.0   \n",
            "34   187.0  191.0  190.0  194.0  179.0  177.0  188.0  186.0  202.0  196.0   \n",
            "35   188.0  192.0  190.0  191.0  192.0  193.0  187.0  192.0  189.0  191.0   \n",
            "36   153.0  180.0  166.0  158.0  156.0  153.0  167.0  149.0  170.0  157.0   \n",
            "37   199.0  197.0  198.0  199.0  197.0  196.0  198.0  196.0  198.0  197.0   \n",
            "38   135.0  148.0  153.0  154.0  155.0  160.0  149.0  145.0  154.0  155.0   \n",
            "39   196.0  198.0  200.0  203.0  204.0  207.0  195.0  201.0  202.0  203.0   \n",
            "40   166.0  168.0  177.0  164.0  153.0  165.0  171.0  170.0  166.0  162.0   \n",
            "41   133.0  132.0  129.0  132.0  132.0  135.0  133.0  134.0  132.0  132.0   \n",
            "42   178.0  183.0  185.0  172.0  159.0  156.0  180.0  178.0  171.0  170.0   \n",
            "43   203.0  206.0  206.0  195.0  199.0  202.0  207.0  206.0  202.0  200.0   \n",
            "44   152.0  151.0  152.0  153.0  149.0  162.0  151.0  154.0  153.0  152.0   \n",
            "45   162.0  157.0  159.0  165.0  161.0  162.0  161.0  163.0  166.0  161.0   \n",
            "46   150.0  157.0  161.0  165.0  163.0  158.0  153.0  158.0  162.0  157.0   \n",
            "47   165.0  160.0  166.0  171.0  162.0  163.0  172.0  163.0  167.0  169.0   \n",
            "48   156.0  158.0  157.0  151.0  160.0  162.0  156.0  158.0  160.0  157.0   \n",
            "49   186.0  188.0  191.0  187.0  197.0  199.0  188.0  193.0  198.0  194.0   \n",
            "50   157.0  161.0  168.0  170.0  173.0  173.0  158.0  161.0  166.0  174.0   \n",
            "51   203.0  199.0  197.0  199.0  201.0  202.0  198.0  200.0  198.0  196.0   \n",
            "52   171.0  168.0  178.0  184.0  187.0  170.0  176.0  173.0  179.0  181.0   \n",
            "53   214.0  215.0  218.0  210.0  200.0  204.0  218.0  217.0  217.0  210.0   \n",
            "54   180.0  181.0  163.0  156.0  158.0  158.0  178.0  181.0  164.0  154.0   \n",
            "55   207.0  209.0  212.0  213.0  215.0  214.0  206.0  205.0  208.0  212.0   \n",
            "56   158.0  160.0  160.0  154.0  156.0  154.0  160.0  161.0  163.0  157.0   \n",
            "57   224.0  225.0  222.0  213.0  215.0  216.0  227.0  224.0  224.0  218.0   \n",
            "58   155.0  153.0  159.0  155.0  145.0  157.0  157.0  153.0  157.0  159.0   \n",
            "59   173.0  170.0  169.0  168.0  164.0  165.0  178.0  168.0  166.0  167.0   \n",
            "60   157.0  148.0  157.0  156.0  159.0  169.0  150.0  138.0  148.0  168.0   \n",
            "61   198.0  200.0  196.0  194.0  191.0  190.0  201.0  203.0  197.0  192.0   \n",
            "62   200.0  203.0  202.0  208.0  195.0  200.0  200.0  209.0  204.0  196.0   \n",
            "63   190.0  191.0  187.0  190.0  181.0  183.0  188.0  189.0  188.0  190.0   \n",
            "64   198.0  207.0  207.0  205.0  207.0  203.0  214.0  217.0  204.0  196.0   \n",
            "65   191.0  198.0  193.0  189.0  194.0  193.0  197.0  197.0  193.0  194.0   \n",
            "66   176.0  187.0  193.0  184.0  190.0  202.0  183.0  193.0  188.0  179.0   \n",
            "67   201.0  201.0  202.0  200.0  199.0  201.0  197.0  195.0  198.0  199.0   \n",
            "68   122.0  118.0  118.0  122.0   86.0   47.0  122.0  114.0  114.0  112.0   \n",
            "69   182.0  188.0  183.0  172.0  184.0  185.0  185.0  185.0  179.0  172.0   \n",
            "70   116.0  117.0   81.0   68.0  133.0  126.0  111.0  113.0   90.0   60.0   \n",
            "71   126.0  125.0  126.0  123.0  125.0  123.0  126.0  125.0  126.0  126.0   \n",
            "72   111.0  114.0   92.0   57.0  130.0  125.0  109.0  122.0  112.0   60.0   \n",
            "73   214.0  213.0  215.0  218.0  220.0  213.0  210.0  211.0  217.0  218.0   \n",
            "74   120.0  123.0  115.0  108.0  104.0   78.0  123.0  122.0  120.0  102.0   \n",
            "75   205.0  204.0  206.0  211.0  208.0  210.0  207.0  202.0  210.0  213.0   \n",
            "76   125.0  123.0  128.0  104.0   92.0  130.0  124.0  123.0  127.0   89.0   \n",
            "77   162.0  164.0  161.0  160.0  156.0  159.0  162.0  164.0  161.0  159.0   \n",
            "78   114.0  115.0   77.0   98.0  124.0  117.0  117.0  111.0   89.0  109.0   \n",
            "79   182.0  183.0  180.0  182.0  183.0  183.0  183.0  182.0  179.0  191.0   \n",
            "80   118.0  115.0   97.0   80.0  132.0  123.0  117.0  112.0  100.0   70.0   \n",
            "81   173.0  172.0  163.0  165.0  175.0  177.0  171.0  172.0  168.0  166.0   \n",
            "82   122.0  122.0  100.0   66.0  127.0  125.0  122.0  124.0  108.0   71.0   \n",
            "83   180.0  181.0  183.0  179.0  172.0  166.0  184.0  186.0  172.0  179.0   \n",
            "84   116.0  115.0  116.0  106.0   68.0  117.0  116.0  116.0  115.0  105.0   \n",
            "85   174.0  169.0  168.0  172.0  169.0  168.0  172.0  164.0  168.0  162.0   \n",
            "86   115.0  112.0  103.0   84.0  122.0  119.0  111.0  111.0   99.0   70.0   \n",
            "87   196.0  194.0  194.0  194.0  192.0  185.0  193.0  194.0  192.0  193.0   \n",
            "88    87.0   55.0  101.0  119.0  125.0  118.0  113.0   76.0   75.0  114.0   \n",
            "89   185.0  187.0  181.0  183.0  185.0  185.0  191.0  188.0  186.0  184.0   \n",
            "90   113.0  110.0  104.0  106.0   79.0   96.0  112.0  110.0  103.0   96.0   \n",
            "91   191.0  191.0  195.0  192.0  190.0  187.0  189.0  196.0  194.0  195.0   \n",
            "92   117.0  119.0   80.0  116.0  123.0  124.0  113.0  120.0   73.0  125.0   \n",
            "93   155.0  150.0  155.0  156.0  156.0  156.0  156.0  152.0  155.0  155.0   \n",
            "94   110.0  106.0   72.0  109.0  121.0  119.0  114.0  101.0   70.0  121.0   \n",
            "95   210.0  202.0  200.0  206.0  202.0  195.0  209.0  205.0  201.0  204.0   \n",
            "96   111.0   75.0   96.0  126.0  120.0  119.0  113.0   85.0   91.0  127.0   \n",
            "97   214.0  210.0  213.0  212.0  215.0  210.0  209.0  209.0  209.0  209.0   \n",
            "98   141.0  139.0  139.0   65.0   97.0  150.0  145.0  144.0  144.0   91.0   \n",
            "99   163.0  155.0  161.0  164.0  174.0  176.0  167.0  158.0  163.0  159.0   \n",
            "100   88.0  126.0  164.0  152.0  151.0  153.0  131.0   74.0  149.0  156.0   \n",
            "101  197.0  193.0  183.0  182.0  186.0  188.0  192.0  176.0  182.0  181.0   \n",
            "102  115.0  104.0  162.0  144.0  153.0  153.0  138.0   97.0  154.0  145.0   \n",
            "103  166.0  164.0  170.0  172.0  172.0  180.0  169.0  164.0  177.0  171.0   \n",
            "104  105.0  124.0  158.0  143.0  150.0  147.0  113.0   80.0  147.0  145.0   \n",
            "105  212.0  214.0  216.0  212.0  213.0  214.0  208.0  212.0  218.0  217.0   \n",
            "106  137.0  137.0  134.0  123.0   92.0  148.0  137.0  138.0  138.0  123.0   \n",
            "107  173.0  171.0  171.0  164.0  167.0  173.0  171.0  173.0  170.0  168.0   \n",
            "108  137.0  133.0  116.0  118.0  130.0  127.0  129.0  118.0  116.0   94.0   \n",
            "109  176.0  183.0  180.0  172.0  172.0  169.0  179.0  179.0  179.0  176.0   \n",
            "110   85.0  140.0  156.0  151.0  148.0  151.0  116.0   99.0  159.0  149.0   \n",
            "111  204.0  194.0  197.0  196.0  196.0  197.0  204.0  209.0  203.0  197.0   \n",
            "112  102.0  104.0  155.0  145.0  148.0  153.0  129.0   76.0  144.0  147.0   \n",
            "113  178.0  180.0  174.0  173.0  167.0  165.0  179.0  176.0  173.0  170.0   \n",
            "114  115.0  130.0  132.0  106.0  127.0  140.0  109.0  130.0  126.0  113.0   \n",
            "115  224.0  219.0  218.0  215.0  222.0  222.0  224.0  220.0  222.0  219.0   \n",
            "116  137.0  137.0  128.0  145.0  139.0  144.0  130.0  132.0  114.0  140.0   \n",
            "117  125.0  127.0  126.0  128.0  128.0  129.0  125.0  126.0  128.0  130.0   \n",
            "118  112.0  140.0  136.0  135.0  134.0  133.0   67.0  118.0  141.0  136.0   \n",
            "119  125.0  134.0  133.0  134.0  135.0  133.0  119.0  126.0  134.0  134.0   \n",
            "120   58.0  127.0  129.0  116.0  113.0  122.0   47.0   70.0  133.0  110.0   \n",
            "121  217.0  214.0  216.0  221.0  217.0  213.0  213.0  221.0  222.0  220.0   \n",
            "122  115.0   67.0  112.0  132.0  122.0  133.0  130.0  102.0   90.0  140.0   \n",
            "123  186.0  183.0  182.0  175.0  176.0  176.0  186.0  183.0  180.0  177.0   \n",
            "124  132.0  101.0   94.0  139.0  124.0  136.0  130.0  131.0   73.0  116.0   \n",
            "125  190.0  178.0  187.0  196.0  201.0  206.0  188.0  191.0  198.0  190.0   \n",
            "126  132.0  124.0  107.0  134.0  111.0  132.0  131.0  132.0   99.0  132.0   \n",
            "127  183.0  187.0  186.0  179.0  165.0  173.0  182.0  184.0  177.0  187.0   \n",
            "128  134.0  105.0  118.0  131.0  131.0  124.0  128.0  122.0  105.0  131.0   \n",
            "129  188.0  187.0  188.0  184.0  181.0  193.0  190.0  192.0  188.0  191.0   \n",
            "130  121.0  123.0  136.0  140.0  141.0  138.0  106.0  127.0  131.0  142.0   \n",
            "131  121.0  126.0  127.0  127.0  128.0  125.0  125.0  127.0  130.0  130.0   \n",
            "132  133.0  133.0   95.0   36.0   90.0  156.0  116.0  114.0  134.0  101.0   \n",
            "133  118.0  120.0  120.0  117.0  115.0  112.0  118.0  121.0  119.0  119.0   \n",
            "134  125.0  154.0  145.0  144.0  143.0  144.0  103.0   97.0  138.0  147.0   \n",
            "135  162.0  169.0  166.0  163.0  171.0  174.0  169.0  174.0  165.0  165.0   \n",
            "136   70.0  128.0  151.0  142.0  146.0  144.0  102.0  119.0  153.0  144.0   \n",
            "137  207.0  205.0  200.0  197.0  197.0  194.0  205.0  203.0  200.0  202.0   \n",
            "138  129.0  125.0  124.0  122.0  127.0  125.0  136.0  124.0  121.0  121.0   \n",
            "139  209.0  207.0  202.0  201.0  204.0  206.0  194.0  202.0  204.0  194.0   \n",
            "140  109.0   80.0  121.0  121.0  122.0  121.0  131.0   94.0   94.0  123.0   \n",
            "141  158.0  158.0  163.0  158.0  164.0  165.0  156.0  161.0  161.0  161.0   \n",
            "142  129.0  122.0  126.0  123.0  119.0  119.0  123.0  127.0  120.0  124.0   \n",
            "143  202.0  197.0  201.0  198.0  193.0  194.0  193.0  196.0  198.0  194.0   \n",
            "144  123.0  124.0  124.0  120.0  117.0  120.0  107.0  129.0  120.0  118.0   \n",
            "145  185.0  186.0  186.0  182.0  175.0  177.0  181.0  179.0  184.0  182.0   \n",
            "146  128.0  123.0  120.0  116.0  116.0  116.0   86.0  117.0  114.0  115.0   \n",
            "147  179.0  178.0  175.0  178.0  177.0  180.0  177.0  175.0  176.0  177.0   \n",
            "148  120.0  120.0  120.0  122.0  116.0  116.0  122.0  122.0  121.0  118.0   \n",
            "149  185.0  181.0  181.0  177.0  169.0  182.0  184.0  181.0  181.0  176.0   \n",
            "150  124.0  112.0  106.0  116.0  115.0  117.0   82.0  109.0  114.0  116.0   \n",
            "151  216.0  213.0  210.0  207.0  207.0  204.0  211.0  211.0  208.0  206.0   \n",
            "152  115.0  119.0  118.0  116.0  114.0  121.0  115.0  118.0  114.0  118.0   \n",
            "153  171.0  175.0  171.0  161.0  177.0  160.0  182.0  154.0  167.0  165.0   \n",
            "154  126.0  118.0  117.0  121.0  115.0  116.0   87.0  121.0  122.0  118.0   \n",
            "155  212.0  213.0  216.0  226.0  220.0  217.0  203.0  215.0  218.0  216.0   \n",
            "156  109.0  127.0  124.0  123.0  125.0  122.0  111.0  126.0  124.0  121.0   \n",
            "157  179.0  173.0  165.0  168.0  157.0  158.0  172.0  165.0  169.0  162.0   \n",
            "158  114.0  127.0  122.0  118.0  117.0  120.0   71.0   92.0  131.0  118.0   \n",
            "159  157.0  159.0  158.0  156.0  152.0  152.0  160.0  164.0  158.0  155.0   \n",
            "160  119.0  121.0  124.0  122.0  121.0  122.0  128.0  127.0  126.0  124.0   \n",
            "161  182.0  180.0  182.0  177.0  180.0  184.0  180.0  179.0  179.0  180.0   \n",
            "162  122.0  121.0  118.0  120.0  118.0  117.0  127.0  120.0  119.0  116.0   \n",
            "163  188.0  185.0  182.0  181.0  181.0  178.0  186.0  185.0  184.0  181.0   \n",
            "164  126.0  122.0  118.0  118.0  122.0  123.0   84.0  121.0  120.0  121.0   \n",
            "165  181.0  183.0  183.0  181.0  182.0  176.0  183.0  183.0  179.0  180.0   \n",
            "166  129.0  125.0  123.0  127.0  128.0  126.0  124.0  135.0  129.0  125.0   \n",
            "167  166.0  193.0  196.0  201.0  196.0  193.0  190.0  195.0  202.0  203.0   \n",
            "168  129.0  124.0  125.0  128.0  130.0  130.0  120.0  133.0  123.0  126.0   \n",
            "169  163.0  159.0  159.0  160.0  158.0  158.0  158.0  157.0  157.0  158.0   \n",
            "170  126.0  123.0  125.0  124.0  123.0  126.0  132.0  130.0  128.0  128.0   \n",
            "171  189.0  196.0  197.0  194.0  197.0  193.0  191.0  201.0  194.0  193.0   \n",
            "172  164.0  178.0  161.0  151.0  149.0  143.0  165.0  162.0  160.0  153.0   \n",
            "173  178.0  183.0  182.0  182.0  185.0  180.0  180.0  175.0  185.0  187.0   \n",
            "174  145.0  144.0  139.0  146.0  147.0  145.0  137.0  147.0  146.0  150.0   \n",
            "175  179.0  174.0  176.0  180.0  175.0  179.0  181.0  172.0  180.0  174.0   \n",
            "176  126.0  139.0  140.0  137.0  136.0  134.0   93.0  106.0  148.0  142.0   \n",
            "177  188.0  189.0  188.0  187.0  183.0  182.0  186.0  191.0  191.0  186.0   \n",
            "178  137.0   90.0  134.0  130.0  128.0  130.0  149.0  109.0  121.0  146.0   \n",
            "179  190.0  186.0  182.0  180.0  187.0  183.0  189.0  185.0  182.0  180.0   \n",
            "180  126.0  131.0  120.0  125.0  124.0  130.0  119.0  139.0  123.0  114.0   \n",
            "181  221.0  226.0  220.0  220.0  219.0  220.0  227.0  224.0  221.0  222.0   \n",
            "182  121.0  128.0  129.0  124.0  134.0  145.0  138.0  114.0  112.0  117.0   \n",
            "183  140.0  132.0  132.0  141.0  135.0  119.0  155.0  135.0  136.0  134.0   \n",
            "184  119.0  120.0  116.0  117.0  100.0   91.0  108.0  119.0  127.0  113.0   \n",
            "185  159.0  167.0  174.0  172.0  166.0  167.0  163.0  168.0  173.0  174.0   \n",
            "186  140.0  148.0  149.0  143.0  138.0  127.0  172.0  172.0  169.0  164.0   \n",
            "187  191.0  191.0  194.0  186.0  187.0  184.0  197.0  198.0  196.0  190.0   \n",
            "188  135.0  133.0  133.0  161.0  126.0  126.0  130.0  152.0  127.0  142.0   \n",
            "189  218.0  220.0  211.0  208.0  202.0  194.0  221.0  217.0  215.0  211.0   \n",
            "190   90.0   87.0  118.0  118.0  132.0  146.0   75.0   94.0  118.0  122.0   \n",
            "191  193.0  196.0  196.0  191.0  191.0  187.0  197.0  196.0  196.0  195.0   \n",
            "192  129.0  128.0  143.0  142.0   84.0   90.0  125.0  132.0  139.0  140.0   \n",
            "193  149.0  154.0  151.0  154.0  153.0  156.0  156.0  155.0  154.0  155.0   \n",
            "194   76.0  112.0  101.0  113.0  123.0  129.0   58.0   65.0   91.0  115.0   \n",
            "195  179.0  176.0  170.0  166.0  165.0  172.0  177.0  174.0  158.0  160.0   \n",
            "196  142.0  144.0  145.0  148.0  124.0  149.0  146.0  147.0  137.0  134.0   \n",
            "197  221.0  214.0  212.0  221.0  213.0  207.0  208.0  213.0  210.0  222.0   \n",
            "198  147.0  140.0  140.0  123.0  122.0  115.0  130.0  121.0  135.0  129.0   \n",
            "199  213.0  204.0  197.0  204.0  200.0  202.0  203.0  206.0  200.0  203.0   \n",
            "\n",
            "     ...     27     28     29     30     31     32     33     34     35   36  \n",
            "0    ...  118.0  137.0  137.0  138.0  137.0  139.0  117.0  132.0  140.0  1.0  \n",
            "1    ...  166.0  168.0  170.0  159.0  166.0  167.0  167.0  168.0  167.0 -1.0  \n",
            "2    ...  143.0  159.0  157.0  147.0  154.0  151.0  153.0  157.0  155.0  1.0  \n",
            "3    ...  153.0  161.0  161.0  150.0  155.0  152.0  149.0  157.0  156.0 -1.0  \n",
            "4    ...  134.0  135.0  149.0  152.0  151.0  154.0  137.0  130.0  151.0  1.0  \n",
            "5    ...  182.0  183.0  185.0  165.0  186.0  183.0  179.0  169.0  168.0 -1.0  \n",
            "6    ...  151.0  161.0  154.0  157.0  156.0  138.0  159.0  159.0  156.0  1.0  \n",
            "7    ...  200.0  201.0  202.0  201.0  203.0  203.0  199.0  199.0  201.0 -1.0  \n",
            "8    ...  132.0  135.0  148.0  146.0  146.0  149.0  134.0  131.0  148.0  1.0  \n",
            "9    ...  204.0  206.0  204.0  196.0  199.0  199.0  201.0  203.0  205.0 -1.0  \n",
            "10   ...  129.0  145.0  144.0  146.0  148.0  125.0  141.0  145.0  147.0  1.0  \n",
            "11   ...  180.0  176.0  175.0  173.0  175.0  178.0  181.0  176.0  177.0 -1.0  \n",
            "12   ...  146.0  148.0  147.0  152.0  155.0  127.0  142.0  149.0  150.0  1.0  \n",
            "13   ...  173.0  187.0  186.0  176.0  155.0  170.0  180.0  181.0  180.0 -1.0  \n",
            "14   ...  137.0  149.0  147.0  148.0  150.0  140.0  139.0  152.0  150.0  1.0  \n",
            "15   ...  206.0  211.0  209.0  204.0  206.0  205.0  205.0  208.0  206.0 -1.0  \n",
            "16   ...  147.0  149.0  150.0  158.0  130.0  147.0  153.0  148.0  148.0  1.0  \n",
            "17   ...  205.0  221.0  220.0  215.0  209.0  204.0  208.0  213.0  213.0 -1.0  \n",
            "18   ...  148.0  150.0  156.0  158.0  143.0  141.0  152.0  158.0  161.0  1.0  \n",
            "19   ...  227.0  228.0  227.0  223.0  225.0  225.0  227.0  227.0  226.0 -1.0  \n",
            "20   ...  147.0  145.0  147.0  156.0  155.0  155.0  152.0  147.0  151.0  1.0  \n",
            "21   ...  193.0  194.0  197.0  197.0  196.0  198.0  193.0  192.0  195.0 -1.0  \n",
            "22   ...  147.0  142.0  141.0  160.0  150.0  153.0  150.0  149.0  149.0  1.0  \n",
            "23   ...  188.0  187.0  188.0  193.0  192.0  190.0  190.0  188.0  185.0 -1.0  \n",
            "24   ...  150.0  147.0  142.0  154.0  151.0  150.0  152.0  151.0  151.0  1.0  \n",
            "25   ...  201.0  202.0  203.0  207.0  204.0  205.0  205.0  204.0  203.0 -1.0  \n",
            "26   ...  141.0  140.0  139.0  153.0  149.0  147.0  144.0  143.0  145.0  1.0  \n",
            "27   ...  210.0  208.0  205.0  211.0  208.0  210.0  211.0  209.0  208.0 -1.0  \n",
            "28   ...  137.0  149.0  152.0  148.0  144.0  133.0  145.0  148.0  152.0  1.0  \n",
            "29   ...  222.0  221.0  219.0  221.0  220.0  220.0  222.0  220.0  219.0 -1.0  \n",
            "30   ...  181.0  169.0  186.0  197.0  188.0  195.0  194.0  192.0  174.0  1.0  \n",
            "31   ...  216.0  214.0  214.0  215.0  214.0  213.0  214.0  213.0  211.0 -1.0  \n",
            "32   ...  182.0  169.0  171.0  193.0  200.0  196.0  195.0  189.0  188.0  1.0  \n",
            "33   ...  186.0  189.0  191.0  186.0  187.0  185.0  186.0  189.0  187.0 -1.0  \n",
            "34   ...  142.0  164.0  162.0  193.0  183.0  168.0  154.0  144.0  162.0  1.0  \n",
            "35   ...  190.0  191.0  190.0  190.0  190.0  188.0  190.0  190.0  189.0 -1.0  \n",
            "36   ...  145.0  137.0  148.0  168.0  160.0  156.0  156.0  143.0  139.0  1.0  \n",
            "37   ...  200.0  199.0  199.0  200.0  199.0  197.0  198.0  199.0  199.0 -1.0  \n",
            "38   ...  164.0  147.0  148.0  158.0  158.0  162.0  159.0  162.0  164.0  1.0  \n",
            "39   ...  202.0  207.0  207.0  198.0  199.0  201.0  202.0  206.0  205.0 -1.0  \n",
            "40   ...  166.0  164.0  162.0  185.0  181.0  193.0  171.0  165.0  167.0  1.0  \n",
            "41   ...  132.0  130.0  130.0  131.0  125.0  127.0  129.0  129.0  130.0 -1.0  \n",
            "42   ...  177.0  172.0  176.0  171.0  160.0  167.0  169.0  167.0  166.0  1.0  \n",
            "43   ...  202.0  199.0  197.0  206.0  205.0  205.0  197.0  195.0  203.0 -1.0  \n",
            "44   ...  192.0  198.0  200.0  154.0  166.0  172.0  191.0  196.0  193.0  1.0  \n",
            "45   ...  165.0  166.0  171.0  165.0  169.0  166.0  164.0  167.0  170.0 -1.0  \n",
            "46   ...  161.0  156.0  154.0  189.0  192.0  179.0  165.0  157.0  156.0  1.0  \n",
            "47   ...  172.0  176.0  163.0  177.0  174.0  174.0  176.0  183.0  173.0 -1.0  \n",
            "48   ...  154.0  145.0  159.0  152.0  145.0  151.0  148.0  144.0  141.0  1.0  \n",
            "49   ...  199.0  204.0  207.0  211.0  210.0  212.0  202.0  205.0  211.0 -1.0  \n",
            "50   ...  171.0  176.0  175.0  152.0  162.0  167.0  177.0  173.0  167.0  1.0  \n",
            "51   ...  198.0  198.0  197.0  201.0  202.0  197.0  200.0  199.0  196.0 -1.0  \n",
            "52   ...  176.0  159.0  139.0  173.0  177.0  185.0  182.0  179.0  166.0  1.0  \n",
            "53   ...  218.0  214.0  213.0  224.0  224.0  220.0  218.0  216.0  213.0 -1.0  \n",
            "54   ...  160.0  157.0  154.0  180.0  168.0  164.0  172.0  178.0  175.0  1.0  \n",
            "55   ...  210.0  206.0  207.0  206.0  207.0  207.0  209.0  208.0  206.0 -1.0  \n",
            "56   ...  154.0  157.0  152.0  175.0  179.0  169.0  161.0  156.0  162.0  1.0  \n",
            "57   ...  215.0  214.0  214.0  218.0  217.0  217.0  213.0  212.0  212.0 -1.0  \n",
            "58   ...  152.0  142.0  136.0  159.0  156.0  158.0  144.0  136.0  143.0  1.0  \n",
            "59   ...  175.0  167.0  172.0  180.0  179.0  177.0  175.0  181.0  185.0 -1.0  \n",
            "60   ...  157.0  158.0  165.0  162.0  162.0  154.0  162.0  156.0  157.0  1.0  \n",
            "61   ...  187.0  188.0  187.0  173.0  182.0  187.0  192.0  186.0  187.0 -1.0  \n",
            "62   ...  177.0  152.0  143.0  213.0  217.0  202.0  206.0  206.0  177.0  1.0  \n",
            "63   ...  182.0  178.0  177.0  181.0  185.0  183.0  182.0  176.0  173.0 -1.0  \n",
            "64   ...  190.0  182.0  179.0  204.0  194.0  189.0  191.0  192.0  186.0  1.0  \n",
            "65   ...  198.0  194.0  189.0  196.0  196.0  197.0  194.0  192.0  185.0 -1.0  \n",
            "66   ...  197.0  177.0  176.0  191.0  203.0  197.0  186.0  177.0  198.0  1.0  \n",
            "67   ...  195.0  196.0  195.0  194.0  194.0  195.0  194.0  190.0  187.0 -1.0  \n",
            "68   ...  116.0  119.0  109.0   99.0  100.0  115.0  113.0  110.0  106.0  1.0  \n",
            "69   ...  185.0  185.0  183.0  182.0  182.0  184.0  186.0  186.0  184.0 -1.0  \n",
            "70   ...  108.0   76.0   88.0  121.0  119.0  119.0  105.0   74.0  107.0  1.0  \n",
            "71   ...  130.0  127.0  126.0  131.0  129.0  122.0  122.0  127.0  124.0 -1.0  \n",
            "72   ...   85.0   96.0  123.0  109.0  116.0  109.0   87.0  115.0  120.0  1.0  \n",
            "73   ...  219.0  207.0  203.0  210.0  210.0  211.0  205.0  199.0  206.0 -1.0  \n",
            "74   ...   94.0  129.0  121.0  123.0  122.0   88.0  100.0  115.0  124.0  1.0  \n",
            "75   ...  212.0  215.0  215.0  211.0  210.0  211.0  210.0  213.0  213.0 -1.0  \n",
            "76   ...   78.0  136.0  130.0  125.0  131.0   98.0   78.0  131.0  129.0  1.0  \n",
            "77   ...  154.0  155.0  156.0  154.0  152.0  156.0  153.0  155.0  154.0 -1.0  \n",
            "78   ...  134.0  122.0  118.0  112.0   90.0   60.0  110.0  118.0  128.0  1.0  \n",
            "79   ...  177.0  171.0  170.0  178.0  177.0  174.0  176.0  167.0  168.0 -1.0  \n",
            "80   ...  108.0   68.0  123.0  117.0  116.0  112.0  112.0   76.0  110.0  1.0  \n",
            "81   ...  169.0  166.0  169.0  180.0  179.0  179.0  176.0  170.0  169.0 -1.0  \n",
            "82   ...  100.0   84.0  135.0  120.0  104.0  119.0   87.0  101.0  135.0  1.0  \n",
            "83   ...  167.0  171.0  181.0  155.0  163.0  170.0  168.0  170.0  177.0 -1.0  \n",
            "84   ...   94.0  129.0  125.0  122.0  127.0   87.0  112.0  133.0  128.0  1.0  \n",
            "85   ...  178.0  180.0  175.0  173.0  175.0  171.0  174.0  176.0  166.0 -1.0  \n",
            "86   ...   90.0   83.0  129.0  116.0  116.0  117.0   94.0   75.0  128.0  1.0  \n",
            "87   ...  185.0  188.0  187.0  167.0  160.0  171.0  188.0  184.0  185.0 -1.0  \n",
            "88   ...  109.0  113.0  117.0  112.0   95.0  106.0  118.0  120.0  120.0  1.0  \n",
            "89   ...  189.0  189.0  184.0  188.0  187.0  189.0  189.0  186.0  187.0 -1.0  \n",
            "90   ...   72.0  119.0  119.0  114.0  116.0   90.0   78.0  124.0  116.0  1.0  \n",
            "91   ...  189.0  188.0  186.0  187.0  187.0  186.0  187.0  187.0  185.0 -1.0  \n",
            "92   ...  127.0  125.0  129.0  102.0  102.0  122.0  118.0  120.0  127.0  1.0  \n",
            "93   ...  154.0  154.0  152.0  157.0  155.0  151.0  151.0  154.0  153.0 -1.0  \n",
            "94   ...  127.0  120.0  120.0  111.0   90.0   79.0  127.0  118.0  121.0  1.0  \n",
            "95   ...  209.0  204.0  202.0  206.0  204.0  206.0  202.0  196.0  205.0 -1.0  \n",
            "96   ...  126.0  125.0  126.0  102.0   95.0  133.0  123.0  126.0  126.0  1.0  \n",
            "97   ...  206.0  207.0  208.0  208.0  209.0  206.0  206.0  210.0  210.0 -1.0  \n",
            "98   ...  115.0  117.0  159.0  147.0  148.0  145.0  118.0   97.0  152.0  1.0  \n",
            "99   ...  152.0  160.0  158.0  159.0  159.0  158.0  162.0  153.0  163.0 -1.0  \n",
            "100  ...  148.0  147.0  146.0  148.0  152.0  112.0  111.0  159.0  150.0  1.0  \n",
            "101  ...  186.0  189.0  192.0  180.0  177.0  185.0  192.0  191.0  189.0 -1.0  \n",
            "102  ...  151.0  143.0  148.0  148.0  146.0   76.0   90.0  152.0  149.0  1.0  \n",
            "103  ...  173.0  178.0  174.0  171.0  168.0  172.0  167.0  176.0  167.0 -1.0  \n",
            "104  ...  102.0  158.0  148.0  141.0  141.0  143.0   84.0  124.0  155.0  1.0  \n",
            "105  ...  215.0  215.0  218.0  217.0  218.0  217.0  215.0  216.0  215.0 -1.0  \n",
            "106  ...   97.0  133.0  140.0  135.0  135.0  134.0  114.0  135.0  131.0  1.0  \n",
            "107  ...  168.0  164.0  166.0  171.0  165.0  158.0  168.0  172.0  173.0 -1.0  \n",
            "108  ...  109.0  101.0  128.0  129.0  131.0  133.0  134.0  108.0  118.0  1.0  \n",
            "109  ...  179.0  174.0  172.0  177.0  180.0  183.0  178.0  174.0  170.0 -1.0  \n",
            "110  ...  104.0  155.0  145.0  139.0  138.0  127.0   71.0  141.0  149.0  1.0  \n",
            "111  ...  207.0  207.0  206.0  210.0  206.0  211.0  214.0  214.0  211.0 -1.0  \n",
            "112  ...  140.0  142.0  145.0  132.0  114.0  141.0  132.0  142.0  143.0  1.0  \n",
            "113  ...  164.0  163.0  157.0  174.0  170.0  159.0  164.0  165.0  161.0 -1.0  \n",
            "114  ...  105.0   92.0  148.0  133.0  119.0  119.0  121.0   91.0  141.0  1.0  \n",
            "115  ...  218.0  217.0  217.0  222.0  222.0  220.0  219.0  221.0  223.0 -1.0  \n",
            "116  ...  135.0  139.0  137.0  124.0  128.0  107.0  129.0  142.0  141.0  1.0  \n",
            "117  ...  135.0  126.0  127.0  128.0  129.0  139.0  132.0  129.0  128.0 -1.0  \n",
            "118  ...   77.0  105.0  135.0  124.0  122.0  125.0  130.0   88.0   93.0  1.0  \n",
            "119  ...  126.0  117.0  117.0  119.0  113.0  131.0  122.0  116.0  122.0 -1.0  \n",
            "120  ...   88.0  135.0  128.0  132.0  131.0  129.0   66.0  118.0  137.0  1.0  \n",
            "121  ...  215.0  217.0  221.0  217.0  220.0  218.0  214.0  216.0  218.0 -1.0  \n",
            "122  ...   80.0  113.0  125.0  139.0  133.0  136.0  103.0   81.0  126.0  1.0  \n",
            "123  ...  185.0  176.0  179.0  188.0  182.0  186.0  191.0  186.0  194.0 -1.0  \n",
            "124  ...  105.0  130.0  116.0  134.0  131.0  135.0   99.0  130.0  119.0  1.0  \n",
            "125  ...  214.0  191.0  193.0  195.0  208.0  214.0  207.0  199.0  205.0 -1.0  \n",
            "126  ...  101.0  129.0  134.0  135.0  128.0  134.0  113.0  122.0  129.0  1.0  \n",
            "127  ...  188.0  186.0  191.0  189.0  188.0  192.0  187.0  189.0  191.0 -1.0  \n",
            "128  ...  126.0  112.0  130.0  135.0  135.0  133.0  138.0  133.0  124.0  1.0  \n",
            "129  ...  193.0  183.0  189.0  194.0  188.0  190.0  189.0  175.0  190.0 -1.0  \n",
            "130  ...  114.0  144.0  147.0  108.0  136.0  126.0  114.0  130.0  152.0  1.0  \n",
            "131  ...  131.0  132.0  132.0  127.0  129.0  131.0  130.0  133.0  133.0 -1.0  \n",
            "132  ...  131.0  127.0   79.0  137.0  139.0  137.0  135.0  130.0  125.0  1.0  \n",
            "133  ...  117.0  120.0  122.0  127.0  121.0  118.0  122.0  123.0  121.0 -1.0  \n",
            "134  ...  155.0  144.0  145.0  124.0  122.0  103.0  128.0  149.0  147.0  1.0  \n",
            "135  ...  167.0  173.0  172.0  157.0  166.0  166.0  173.0  175.0  173.0 -1.0  \n",
            "136  ...   74.0  128.0  144.0  133.0  129.0  122.0  108.0   80.0   80.0  1.0  \n",
            "137  ...  206.0  205.0  205.0  209.0  205.0  207.0  206.0  208.0  205.0 -1.0  \n",
            "138  ...   84.0  124.0  118.0  125.0  127.0  124.0   95.0  118.0  116.0  1.0  \n",
            "139  ...  196.0  200.0  179.0  185.0  187.0  182.0  190.0  187.0  147.0 -1.0  \n",
            "140  ...  114.0  129.0  125.0  124.0  125.0   79.0  106.0  132.0  127.0  1.0  \n",
            "141  ...  175.0  173.0  174.0  168.0  173.0  176.0  173.0  171.0  169.0 -1.0  \n",
            "142  ...   79.0   86.0  120.0  122.0  116.0  113.0  121.0   95.0   71.0  1.0  \n",
            "143  ...  185.0  185.0  182.0  198.0  208.0  198.0  187.0  188.0  189.0 -1.0  \n",
            "144  ...   66.0  114.0  122.0  116.0  110.0  120.0  103.0   68.0  104.0  1.0  \n",
            "145  ...  171.0  168.0  163.0  182.0  183.0  175.0  165.0  162.0  159.0 -1.0  \n",
            "146  ...   79.0  131.0  121.0  120.0  123.0  120.0   80.0  103.0  128.0  1.0  \n",
            "147  ...  169.0  163.0  172.0  176.0  167.0  171.0  168.0  167.0  176.0 -1.0  \n",
            "148  ...   74.0   93.0  124.0  112.0  113.0  117.0  118.0   60.0   83.0  1.0  \n",
            "149  ...  178.0  181.0  176.0  170.0  170.0  173.0  175.0  176.0  179.0 -1.0  \n",
            "150  ...   50.0   69.0   79.0  112.0  111.0  116.0   99.0   91.0  101.0  1.0  \n",
            "151  ...  204.0  206.0  204.0  207.0  207.0  212.0  211.0  204.0  201.0 -1.0  \n",
            "152  ...   80.0   57.0  112.0  107.0  111.0  111.0  121.0   91.0   69.0  1.0  \n",
            "153  ...  160.0  165.0  167.0  183.0  162.0  166.0  162.0  172.0  167.0 -1.0  \n",
            "154  ...   76.0  118.0  104.0  120.0  119.0  120.0   92.0   81.0   74.0  1.0  \n",
            "155  ...  212.0  219.0  219.0  208.0  199.0  207.0  212.0  211.0  210.0 -1.0  \n",
            "156  ...   76.0  101.0  128.0  119.0  114.0  114.0  119.0   68.0  111.0  1.0  \n",
            "157  ...  164.0  163.0  157.0  164.0  177.0  161.0  161.0  159.0  159.0 -1.0  \n",
            "158  ...   92.0   93.0   78.0  120.0  120.0  121.0  121.0  121.0  120.0  1.0  \n",
            "159  ...  158.0  155.0  151.0  161.0  158.0  150.0  150.0  154.0  153.0 -1.0  \n",
            "160  ...  106.0   71.0   61.0  117.0  113.0  112.0  117.0  112.0  103.0  1.0  \n",
            "161  ...  180.0  177.0  179.0  176.0  180.0  178.0  177.0  174.0  178.0 -1.0  \n",
            "162  ...   49.0   76.0  123.0  117.0  114.0  119.0  101.0   50.0   93.0  1.0  \n",
            "163  ...  187.0  188.0  184.0  190.0  188.0  186.0  186.0  189.0  182.0 -1.0  \n",
            "164  ...  107.0  129.0  126.0  120.0  116.0  108.0   93.0  100.0  132.0  1.0  \n",
            "165  ...  178.0  179.0  177.0  179.0  175.0  183.0  184.0  178.0  178.0 -1.0  \n",
            "166  ...   82.0   90.0  126.0  121.0  120.0  125.0  127.0   96.0   85.0  1.0  \n",
            "167  ...  188.0  197.0  195.0  200.0  196.0  190.0  188.0  192.0  196.0 -1.0  \n",
            "168  ...   61.0   79.0  124.0  120.0  126.0  131.0  110.0   84.0   78.0  1.0  \n",
            "169  ...  156.0  158.0  157.0  157.0  158.0  158.0  158.0  158.0  161.0 -1.0  \n",
            "170  ...   97.0   80.0   82.0  122.0  122.0  125.0  128.0  124.0   96.0  1.0  \n",
            "171  ...  177.0  187.0  191.0  182.0  185.0  174.0  169.0  183.0  192.0 -1.0  \n",
            "172  ...  126.0  126.0   88.0  151.0  147.0  145.0  157.0  162.0  133.0  1.0  \n",
            "173  ...  179.0  172.0  175.0  188.0  186.0  181.0  180.0  173.0  174.0 -1.0  \n",
            "174  ...   99.0  122.0  147.0  158.0  161.0  150.0  141.0   85.0  127.0  1.0  \n",
            "175  ...  175.0  175.0  178.0  178.0  178.0  181.0  178.0  176.0  178.0 -1.0  \n",
            "176  ...  106.0  144.0  130.0  145.0  147.0  134.0  103.0  151.0  140.0  1.0  \n",
            "177  ...  189.0  191.0  197.0  191.0  193.0  191.0  187.0  189.0  193.0 -1.0  \n",
            "178  ...  127.0  151.0  136.0  134.0  134.0  134.0   74.0   98.0  138.0  1.0  \n",
            "179  ...  189.0  188.0  184.0  192.0  187.0  184.0  187.0  191.0  185.0 -1.0  \n",
            "180  ...  119.0  106.0  115.0  138.0  122.0   71.0   89.0   94.0  114.0  1.0  \n",
            "181  ...  217.0  224.0  224.0  228.0  223.0  223.0  224.0  222.0  223.0 -1.0  \n",
            "182  ...   70.0   87.0  104.0  127.0  119.0  112.0   90.0   73.0   57.0  1.0  \n",
            "183  ...  160.0  154.0  134.0  158.0  162.0  159.0  146.0  145.0  137.0 -1.0  \n",
            "184  ...   72.0   66.0   53.0  125.0  115.0  119.0  113.0  122.0  108.0  1.0  \n",
            "185  ...  169.0  163.0  166.0  166.0  164.0  166.0  173.0  171.0  170.0 -1.0  \n",
            "186  ...  148.0  156.0  155.0  151.0  170.0  160.0  154.0  168.0  158.0  1.0  \n",
            "187  ...  195.0  197.0  191.0  195.0  196.0  196.0  195.0  195.0  192.0 -1.0  \n",
            "188  ...  120.0  112.0  141.0  104.0  105.0   85.0   93.0  128.0  124.0  1.0  \n",
            "189  ...  204.0  189.0  208.0  222.0  205.0  199.0  201.0  204.0  208.0 -1.0  \n",
            "190  ...   67.0   93.0  119.0  126.0  135.0  137.0  106.0  105.0  120.0  1.0  \n",
            "191  ...  199.0  196.0  191.0  191.0  200.0  193.0  193.0  191.0  190.0 -1.0  \n",
            "192  ...  160.0  144.0  121.0  129.0  142.0  157.0  149.0  124.0  124.0  1.0  \n",
            "193  ...  152.0  151.0  149.0  153.0  152.0  150.0  150.0  151.0  149.0 -1.0  \n",
            "194  ...  108.0  123.0  113.0  133.0  144.0  109.0   83.0  126.0  117.0  1.0  \n",
            "195  ...  176.0  179.0  179.0  184.0  180.0  181.0  176.0  178.0  177.0 -1.0  \n",
            "196  ...   91.0  111.0  132.0  135.0  131.0  133.0  122.0   84.0  114.0  1.0  \n",
            "197  ...  198.0  216.0  214.0  210.0  211.0  202.0  205.0  219.0  214.0 -1.0  \n",
            "198  ...   91.0   89.0   93.0  126.0  121.0  120.0  124.0  139.0  141.0  1.0  \n",
            "199  ...  208.0  203.0  205.0  211.0  208.0  207.0  203.0  209.0  210.0 -1.0  \n",
            "\n",
            "[200 rows x 37 columns]\n"
          ]
        }
      ]
    },
    {
      "cell_type": "code",
      "metadata": {
        "id": "PkDoOTIpNwfH"
      },
      "source": [
        "df_concat.to_csv('numbers_merged_downsampled.csv', index=False)"
      ],
      "execution_count": null,
      "outputs": []
    },
    {
      "cell_type": "code",
      "metadata": {
        "id": "SYZ9gwohNwfH"
      },
      "source": [
        "pd.set_option(\"display.max_rows\", None)\n"
      ],
      "execution_count": null,
      "outputs": []
    },
    {
      "cell_type": "markdown",
      "metadata": {
        "id": "QxNS0e30NLVt"
      },
      "source": [
        "##Loading Dataset"
      ]
    },
    {
      "cell_type": "code",
      "metadata": {
        "id": "8kS6yMs3MWtz",
        "outputId": "f57d5be0-878f-46eb-f43c-543a581e44b0"
      },
      "source": [
        "import pandas as pd\n",
        "\n",
        "df = pd.read_csv('numbers_merged_downsampled.csv',sep=',', header=None) # alterative problem: dataset_graph10.csv\n",
        "data = df.values\n",
        "print(data)"
      ],
      "execution_count": null,
      "outputs": [
        {
          "name": "stdout",
          "output_type": "stream",
          "text": [
            "[[  0.   1.   2. ...  34.  35.  36.]\n",
            " [139. 121. 115. ... 132. 140.   1.]\n",
            " [163. 164. 164. ... 168. 167.  -1.]\n",
            " ...\n",
            " [221. 214. 212. ... 219. 214.  -1.]\n",
            " [147. 140. 140. ... 139. 141.   1.]\n",
            " [213. 204. 197. ... 209. 210.  -1.]]\n"
          ]
        }
      ]
    },
    {
      "cell_type": "code",
      "metadata": {
        "id": "29It4FK_NwfI"
      },
      "source": [
        "import numpy as np\n",
        "\n",
        "# choose number of training and test samples per class:\n",
        "num_train = 7\n",
        "num_test =7\n",
        "\n",
        "# extract training and test sets and sort them by class label\n",
        "train = data[:2*num_train, :]\n",
        "test = data[2*num_train:2*(num_train+num_test), :]\n",
        "\n",
        "ind=np.argsort(train[:,-1])\n",
        "x_train = train[ind][:,:-1]\n",
        "y_train = train[ind][:,-1]\n",
        "\n",
        "ind=np.argsort(test[:,-1])\n",
        "x_test = test[ind][:,:-1]\n",
        "y_test = test[ind][:,-1]"
      ],
      "execution_count": null,
      "outputs": []
    },
    {
      "cell_type": "code",
      "metadata": {
        "id": "pVnP2T6GMXIE",
        "outputId": "3cf5de94-be88-4ac4-cda0-222709a48c32"
      },
      "source": [
        "print(y_test)"
      ],
      "execution_count": null,
      "outputs": [
        {
          "name": "stdout",
          "output_type": "stream",
          "text": [
            "[-1. -1. -1. -1. -1. -1. -1.  1.  1.  1.  1.  1.  1.  1.]\n"
          ]
        }
      ]
    },
    {
      "cell_type": "code",
      "metadata": {
        "id": "Ygg6EqtS46VF",
        "outputId": "4252c926-b49b-4f96-b8d5-651ef1bb9573"
      },
      "source": [
        "runtime_backends = provider.backends(input_allowed='runtime')\n",
        "print(runtime_backends)"
      ],
      "execution_count": null,
      "outputs": [
        {
          "name": "stdout",
          "output_type": "stream",
          "text": [
            "[<IBMQSimulator('ibmq_qasm_simulator') from IBMQ(hub='ibm-q', group='open', project='main')>]\n"
          ]
        }
      ]
    },
    {
      "cell_type": "markdown",
      "metadata": {
        "id": "pEL3VkGSKMRO"
      },
      "source": [
        "##Configure the QKA algorithm"
      ]
    },
    {
      "cell_type": "code",
      "metadata": {
        "id": "rOEKgL5vKFJA"
      },
      "source": [
        "from qka import FeatureMap\n",
        " \n",
        "d =  36              # feature dimension is twice the qubit number\n",
        "\n",
        "em = [[0,1],[1,2],[2,3],[3,4],[4,5],[5,6],[6,7],[7,8],[8,9],[9,10],[10,11],[11,12],[12,13],[13,14],[14,15],[15,16],[16,17]]\n",
        "#m = [[0,1],[2,3],[4,5],[6,7],[8,9],[1,2],[3,4],[5,6],[7,8]]\n",
        "fm = FeatureMap(feature_dimension=d, entangler_map=em)          # define the feature map\n",
        "initial_point = [-300] #set the initial parameter for the feature map\n",
        "\n"
      ],
      "execution_count": null,
      "outputs": []
    },
    {
      "cell_type": "code",
      "metadata": {
        "id": "zrcw4-9-NwfJ",
        "outputId": "f6e0cc71-0e74-4e9b-d86e-e8367f1c584c"
      },
      "source": [
        "print(x_train.shape)"
      ],
      "execution_count": null,
      "outputs": [
        {
          "name": "stdout",
          "output_type": "stream",
          "text": [
            "(14, 36)\n"
          ]
        }
      ]
    },
    {
      "cell_type": "code",
      "metadata": {
        "id": "4lRQXjV-KYjr",
        "outputId": "e850e56e-4621-457a-8e2b-17b40cfeabd0"
      },
      "source": [
        "from qiskit.tools.visualization import circuit_drawer\n",
        "circuit_drawer(fm.construct_circuit(x=x_train[0], parameters=initial_point),\n",
        "               output='text', fold=200)"
      ],
      "execution_count": null,
      "outputs": [
        {
          "data": {
            "text/html": [
              "<pre style=\"word-wrap: normal;white-space: pre;background: #fff0;line-height: 1.1;font-family: &quot;Courier New&quot;,Courier,monospace\">      ┌─────────┐   ┌──────────┐┌──────────┐                                                                                                                                                »\n",
              " q_0: ┤ Ry(300) ├─■─┤ Rz(-328) ├┤ Rx(-326) ├────────────────────────────────────────────────────────────────────────────────────────────────────────────────────────────────────────────────»\n",
              "      ├─────────┤ │ └──────────┘├──────────┤┌──────────┐                                                                                                                                    »\n",
              " q_1: ┤ Ry(300) ├─■──────■──────┤ Rz(-324) ├┤ Rx(-328) ├────────────────────────────────────────────────────────────────────────────────────────────────────────────────────────────────────»\n",
              "      ├─────────┤        │      └──────────┘├──────────┤┌──────────┐                                                                                                                        »\n",
              " q_2: ┤ Ry(300) ├────────■───────────■──────┤ Rz(-328) ├┤ Rx(-324) ├────────────────────────────────────────────────────────────────────────────────────────────────────────────────────────»\n",
              "      ├─────────┤                    │      └──────────┘├──────────┤┌──────────┐                                                                                                            »\n",
              " q_3: ┤ Ry(300) ├────────────────────■───────────■──────┤ Rz(-322) ├┤ Rx(-316) ├────────────────────────────────────────────────────────────────────────────────────────────────────────────»\n",
              "      ├─────────┤                                │      └──────────┘├──────────┤┌──────────┐                                                                                                »\n",
              " q_4: ┤ Ry(300) ├────────────────────────────────■───────────■──────┤ Rz(-330) ├┤ Rx(-318) ├────────────────────────────────────────────────────────────────────────────────────────────────»\n",
              "      ├─────────┤                                            │      └──────────┘├──────────┤┌──────────┐                                                                                    »\n",
              " q_5: ┤ Ry(300) ├────────────────────────────────────────────■───────────■──────┤ Rz(-336) ├┤ Rx(-336) ├────────────────────────────────────────────────────────────────────────────────────»\n",
              "      ├─────────┤                                                        │      └──────────┘├──────────┤┌──────────┐                                                                        »\n",
              " q_6: ┤ Ry(300) ├────────────────────────────────────────────────────────■───────────■──────┤ Rz(-328) ├┤ Rx(-322) ├────────────────────────────────────────────────────────────────────────»\n",
              "      ├─────────┤                                                                    │      └──────────┘├──────────┤┌──────────┐                                                            »\n",
              " q_7: ┤ Ry(300) ├────────────────────────────────────────────────────────────────────■───────────■──────┤ Rz(-320) ├┤ Rx(-318) ├────────────────────────────────────────────────────────────»\n",
              "      ├─────────┤                                                                                │      └──────────┘├──────────┤┌──────────┐                                                »\n",
              " q_8: ┤ Ry(300) ├────────────────────────────────────────────────────────────────────────────────■───────────■──────┤ Rz(-336) ├┤ Rx(-332) ├────────────────────────────────────────────────»\n",
              "      ├─────────┤                                                                                            │      └──────────┘├──────────┤┌──────────┐                                    »\n",
              " q_9: ┤ Ry(300) ├────────────────────────────────────────────────────────────────────────────────────────────■───────────■──────┤ Rz(-324) ├┤ Rx(-322) ├────────────────────────────────────»\n",
              "      ├─────────┤                                                                                                        │      └──────────┘├──────────┤┌──────────┐                        »\n",
              "q_10: ┤ Ry(300) ├────────────────────────────────────────────────────────────────────────────────────────────────────────■───────────■──────┤ Rz(-324) ├┤ Rx(-322) ├────────────────────────»\n",
              "      ├─────────┤                                                                                                                    │      └──────────┘├──────────┤┌──────────┐            »\n",
              "q_11: ┤ Ry(300) ├────────────────────────────────────────────────────────────────────────────────────────────────────────────────────■───────────■──────┤ Rz(-330) ├┤ Rx(-324) ├────────────»\n",
              "      ├─────────┤                                                                                                                                │      └──────────┘├──────────┤┌──────────┐»\n",
              "q_12: ┤ Ry(300) ├────────────────────────────────────────────────────────────────────────────────────────────────────────────────────────────────■───────────■──────┤ Rz(-324) ├┤ Rx(-328) ├»\n",
              "      ├─────────┤                                                                                                                                            │      └──────────┘├──────────┤»\n",
              "q_13: ┤ Ry(300) ├────────────────────────────────────────────────────────────────────────────────────────────────────────────────────────────────────────────■───────────■──────┤ Rz(-332) ├»\n",
              "      ├─────────┤                                                                                                                                                        │      └──────────┘»\n",
              "q_14: ┤ Ry(300) ├────────────────────────────────────────────────────────────────────────────────────────────────────────────────────────────────────────────────────────■───────────■──────»\n",
              "      ├─────────┤                                                                                                                                                                    │      »\n",
              "q_15: ┤ Ry(300) ├────────────────────────────────────────────────────────────────────────────────────────────────────────────────────────────────────────────────────────────────────■──────»\n",
              "      ├─────────┤                                                                                                                                                                           »\n",
              "q_16: ┤ Ry(300) ├───────────────────────────────────────────────────────────────────────────────────────────────────────────────────────────────────────────────────────────────────────────»\n",
              "      ├─────────┤                                                                                                                                                                           »\n",
              "q_17: ┤ Ry(300) ├───────────────────────────────────────────────────────────────────────────────────────────────────────────────────────────────────────────────────────────────────────────»\n",
              "      └─────────┘                                                                                                                                                                           »\n",
              "«                                                      \n",
              "« q_0: ────────────────────────────────────────────────\n",
              "«                                                      \n",
              "« q_1: ────────────────────────────────────────────────\n",
              "«                                                      \n",
              "« q_2: ────────────────────────────────────────────────\n",
              "«                                                      \n",
              "« q_3: ────────────────────────────────────────────────\n",
              "«                                                      \n",
              "« q_4: ────────────────────────────────────────────────\n",
              "«                                                      \n",
              "« q_5: ────────────────────────────────────────────────\n",
              "«                                                      \n",
              "« q_6: ────────────────────────────────────────────────\n",
              "«                                                      \n",
              "« q_7: ────────────────────────────────────────────────\n",
              "«                                                      \n",
              "« q_8: ────────────────────────────────────────────────\n",
              "«                                                      \n",
              "« q_9: ────────────────────────────────────────────────\n",
              "«                                                      \n",
              "«q_10: ────────────────────────────────────────────────\n",
              "«                                                      \n",
              "«q_11: ────────────────────────────────────────────────\n",
              "«                                                      \n",
              "«q_12: ────────────────────────────────────────────────\n",
              "«      ┌──────────┐                                    \n",
              "«q_13: ┤ Rx(-322) ├────────────────────────────────────\n",
              "«      ├──────────┤┌──────────┐                        \n",
              "«q_14: ┤ Rz(-340) ├┤ Rx(-336) ├────────────────────────\n",
              "«      └──────────┘├──────────┤┌──────────┐            \n",
              "«q_15: ─────■──────┤ Rz(-332) ├┤ Rx(-318) ├────────────\n",
              "«           │      └──────────┘├──────────┤┌──────────┐\n",
              "«q_16: ─────■───────────■──────┤ Rz(-334) ├┤ Rx(-334) ├\n",
              "«                       │      ├──────────┤├──────────┤\n",
              "«q_17: ─────────────────■──────┤ Rz(-334) ├┤ Rx(-336) ├\n",
              "«                              └──────────┘└──────────┘</pre>"
            ],
            "text/plain": [
              "      ┌─────────┐   ┌──────────┐┌──────────┐                                                                                                                                                »\n",
              " q_0: ┤ Ry(300) ├─■─┤ Rz(-328) ├┤ Rx(-326) ├────────────────────────────────────────────────────────────────────────────────────────────────────────────────────────────────────────────────»\n",
              "      ├─────────┤ │ └──────────┘├──────────┤┌──────────┐                                                                                                                                    »\n",
              " q_1: ┤ Ry(300) ├─■──────■──────┤ Rz(-324) ├┤ Rx(-328) ├────────────────────────────────────────────────────────────────────────────────────────────────────────────────────────────────────»\n",
              "      ├─────────┤        │      └──────────┘├──────────┤┌──────────┐                                                                                                                        »\n",
              " q_2: ┤ Ry(300) ├────────■───────────■──────┤ Rz(-328) ├┤ Rx(-324) ├────────────────────────────────────────────────────────────────────────────────────────────────────────────────────────»\n",
              "      ├─────────┤                    │      └──────────┘├──────────┤┌──────────┐                                                                                                            »\n",
              " q_3: ┤ Ry(300) ├────────────────────■───────────■──────┤ Rz(-322) ├┤ Rx(-316) ├────────────────────────────────────────────────────────────────────────────────────────────────────────────»\n",
              "      ├─────────┤                                │      └──────────┘├──────────┤┌──────────┐                                                                                                »\n",
              " q_4: ┤ Ry(300) ├────────────────────────────────■───────────■──────┤ Rz(-330) ├┤ Rx(-318) ├────────────────────────────────────────────────────────────────────────────────────────────────»\n",
              "      ├─────────┤                                            │      └──────────┘├──────────┤┌──────────┐                                                                                    »\n",
              " q_5: ┤ Ry(300) ├────────────────────────────────────────────■───────────■──────┤ Rz(-336) ├┤ Rx(-336) ├────────────────────────────────────────────────────────────────────────────────────»\n",
              "      ├─────────┤                                                        │      └──────────┘├──────────┤┌──────────┐                                                                        »\n",
              " q_6: ┤ Ry(300) ├────────────────────────────────────────────────────────■───────────■──────┤ Rz(-328) ├┤ Rx(-322) ├────────────────────────────────────────────────────────────────────────»\n",
              "      ├─────────┤                                                                    │      └──────────┘├──────────┤┌──────────┐                                                            »\n",
              " q_7: ┤ Ry(300) ├────────────────────────────────────────────────────────────────────■───────────■──────┤ Rz(-320) ├┤ Rx(-318) ├────────────────────────────────────────────────────────────»\n",
              "      ├─────────┤                                                                                │      └──────────┘├──────────┤┌──────────┐                                                »\n",
              " q_8: ┤ Ry(300) ├────────────────────────────────────────────────────────────────────────────────■───────────■──────┤ Rz(-336) ├┤ Rx(-332) ├────────────────────────────────────────────────»\n",
              "      ├─────────┤                                                                                            │      └──────────┘├──────────┤┌──────────┐                                    »\n",
              " q_9: ┤ Ry(300) ├────────────────────────────────────────────────────────────────────────────────────────────■───────────■──────┤ Rz(-324) ├┤ Rx(-322) ├────────────────────────────────────»\n",
              "      ├─────────┤                                                                                                        │      └──────────┘├──────────┤┌──────────┐                        »\n",
              "q_10: ┤ Ry(300) ├────────────────────────────────────────────────────────────────────────────────────────────────────────■───────────■──────┤ Rz(-324) ├┤ Rx(-322) ├────────────────────────»\n",
              "      ├─────────┤                                                                                                                    │      └──────────┘├──────────┤┌──────────┐            »\n",
              "q_11: ┤ Ry(300) ├────────────────────────────────────────────────────────────────────────────────────────────────────────────────────■───────────■──────┤ Rz(-330) ├┤ Rx(-324) ├────────────»\n",
              "      ├─────────┤                                                                                                                                │      └──────────┘├──────────┤┌──────────┐»\n",
              "q_12: ┤ Ry(300) ├────────────────────────────────────────────────────────────────────────────────────────────────────────────────────────────────■───────────■──────┤ Rz(-324) ├┤ Rx(-328) ├»\n",
              "      ├─────────┤                                                                                                                                            │      └──────────┘├──────────┤»\n",
              "q_13: ┤ Ry(300) ├────────────────────────────────────────────────────────────────────────────────────────────────────────────────────────────────────────────■───────────■──────┤ Rz(-332) ├»\n",
              "      ├─────────┤                                                                                                                                                        │      └──────────┘»\n",
              "q_14: ┤ Ry(300) ├────────────────────────────────────────────────────────────────────────────────────────────────────────────────────────────────────────────────────────■───────────■──────»\n",
              "      ├─────────┤                                                                                                                                                                    │      »\n",
              "q_15: ┤ Ry(300) ├────────────────────────────────────────────────────────────────────────────────────────────────────────────────────────────────────────────────────────────────────■──────»\n",
              "      ├─────────┤                                                                                                                                                                           »\n",
              "q_16: ┤ Ry(300) ├───────────────────────────────────────────────────────────────────────────────────────────────────────────────────────────────────────────────────────────────────────────»\n",
              "      ├─────────┤                                                                                                                                                                           »\n",
              "q_17: ┤ Ry(300) ├───────────────────────────────────────────────────────────────────────────────────────────────────────────────────────────────────────────────────────────────────────────»\n",
              "      └─────────┘                                                                                                                                                                           »\n",
              "«                                                      \n",
              "« q_0: ────────────────────────────────────────────────\n",
              "«                                                      \n",
              "« q_1: ────────────────────────────────────────────────\n",
              "«                                                      \n",
              "« q_2: ────────────────────────────────────────────────\n",
              "«                                                      \n",
              "« q_3: ────────────────────────────────────────────────\n",
              "«                                                      \n",
              "« q_4: ────────────────────────────────────────────────\n",
              "«                                                      \n",
              "« q_5: ────────────────────────────────────────────────\n",
              "«                                                      \n",
              "« q_6: ────────────────────────────────────────────────\n",
              "«                                                      \n",
              "« q_7: ────────────────────────────────────────────────\n",
              "«                                                      \n",
              "« q_8: ────────────────────────────────────────────────\n",
              "«                                                      \n",
              "« q_9: ────────────────────────────────────────────────\n",
              "«                                                      \n",
              "«q_10: ────────────────────────────────────────────────\n",
              "«                                                      \n",
              "«q_11: ────────────────────────────────────────────────\n",
              "«                                                      \n",
              "«q_12: ────────────────────────────────────────────────\n",
              "«      ┌──────────┐                                    \n",
              "«q_13: ┤ Rx(-322) ├────────────────────────────────────\n",
              "«      ├──────────┤┌──────────┐                        \n",
              "«q_14: ┤ Rz(-340) ├┤ Rx(-336) ├────────────────────────\n",
              "«      └──────────┘├──────────┤┌──────────┐            \n",
              "«q_15: ─────■──────┤ Rz(-332) ├┤ Rx(-318) ├────────────\n",
              "«           │      └──────────┘├──────────┤┌──────────┐\n",
              "«q_16: ─────■───────────■──────┤ Rz(-334) ├┤ Rx(-334) ├\n",
              "«                       │      ├──────────┤├──────────┤\n",
              "«q_17: ─────────────────■──────┤ Rz(-334) ├┤ Rx(-336) ├\n",
              "«                              └──────────┘└──────────┘"
            ]
          },
          "execution_count": 417,
          "metadata": {},
          "output_type": "execute_result"
        }
      ]
    },
    {
      "cell_type": "code",
      "metadata": {
        "id": "DECb6QuJKe8h"
      },
      "source": [
        "C = 1                                                       # SVM soft-margin penalty\n",
        "maxiters = 5                                                 # number of SPSA iterations"
      ],
      "execution_count": null,
      "outputs": []
    },
    {
      "cell_type": "code",
      "metadata": {
        "id": "GQEmNuP7KiEL"
      },
      "source": [
        "initial_layout = [1,2,3,4,5,6,7,8,9,10,11,12,13,14,15,16,17,18] # Arbitary layout for 18 qubits       \n",
        "#initial_layout = [9, 8, 11, 14, 16, 19, 22, 25, 24, 23]       # see figure above for the 10-qubit graph"
      ],
      "execution_count": null,
      "outputs": []
    },
    {
      "cell_type": "code",
      "metadata": {
        "id": "ZH0sauw_KqAg",
        "outputId": "f568811a-6576-47db-9224-11b03372daeb"
      },
      "source": [
        "print(provider.runtime.program('quantum-kernel-alignment'))"
      ],
      "execution_count": null,
      "outputs": [
        {
          "name": "stdout",
          "output_type": "stream",
          "text": [
            "quantum-kernel-alignment:\n",
            "  Name: quantum-kernel-alignment\n",
            "  Description: Quantum kernel alignment algorithm that learns, on a given dataset, a quantum kernel maximizing the SVM classification margin.\n",
            "  Version: 1\n",
            "  Creation date: 2021-05-06T14:56:53.000000\n",
            "  Max execution time: 28800\n",
            "  Input parameters:\n",
            "    - feature_map:\n",
            "      Description: An instance of FeatureMap in dictionary format used to map classical data into a quantum state space.\n",
            "      Type: dict\n",
            "      Required: True\n",
            "    - data:\n",
            "      Description: NxD array of training data, where N is the number of samples and D is the feature dimension.\n",
            "      Type: numpy.ndarray\n",
            "      Required: True\n",
            "    - labels:\n",
            "      Description: Nx1 array of +/-1 labels of the N training samples.\n",
            "      Type: numpy.ndarray\n",
            "      Required: True\n",
            "    - initial_kernel_parameters:\n",
            "      Description: Initial parameters of the quantum kernel. If not specified, an array of randomly generated numbers is used.\n",
            "      Type: numpy.ndarray\n",
            "      Required: False\n",
            "    - maxiters:\n",
            "      Description: Number of SPSA optimization steps. Default is 1.\n",
            "      Type: int\n",
            "      Required: False\n",
            "    - C:\n",
            "      Description: Penalty parameter for the soft-margin support vector machine. Default is 1.\n",
            "      Type: float\n",
            "      Required: False\n",
            "    - initial_layout:\n",
            "      Description: Initial position of virtual qubits on the physical qubits of the quantum device. Default is None.\n",
            "      Type: list or dict\n",
            "      Required: False\n",
            "  Interim results:\n",
            "    none\n",
            "  Returns:\n",
            "    - aligned_kernel_parameters:\n",
            "      Description: The optimized kernel parameters found from quantum kernel alignment.\n",
            "      Type: numpy.ndarray\n",
            "    - aligned_kernel_matrix:\n",
            "      Description: The aligned quantum kernel matrix evaluated with the optimized kernel parameters on the training data.\n",
            "      Type: numpy.ndarray\n"
          ]
        }
      ]
    },
    {
      "cell_type": "code",
      "metadata": {
        "id": "TKlgVxz1KrK2"
      },
      "source": [
        "def interim_result_callback(job_id, interim_result):\n",
        "    print(f\"interim result: {interim_result}\\n\")"
      ],
      "execution_count": null,
      "outputs": []
    },
    {
      "cell_type": "code",
      "metadata": {
        "scrolled": true,
        "tags": [],
        "id": "UMCxcVylNwfJ",
        "outputId": "6917acdf-6df2-4fc7-ff31-a58124f28365"
      },
      "source": [
        "print(x_train)"
      ],
      "execution_count": null,
      "outputs": [
        {
          "name": "stdout",
          "output_type": "stream",
          "text": [
            "[[163. 164. 164. 162. 162. 164. 158. 161. 159. 165. 168. 168. 161. 164.\n",
            "  159. 160. 166. 168. 161. 162. 161. 162. 162. 165. 164. 162. 161. 166.\n",
            "  168. 170. 159. 166. 167. 167. 168. 167.]\n",
            " [157. 163. 162. 154. 154. 150. 152. 159. 162. 165. 161. 153. 156. 158.\n",
            "  154. 164. 161. 153. 151. 158. 156. 158. 160. 156. 146. 159. 160. 153.\n",
            "  161. 161. 150. 155. 152. 149. 157. 156.]\n",
            " [173. 203. 185. 168. 182. 169. 158. 181. 181. 183. 179. 174. 172. 159.\n",
            "  182. 191. 187. 168. 185. 159. 175. 178. 187. 180. 182. 172. 175. 182.\n",
            "  183. 185. 165. 186. 183. 179. 169. 168.]\n",
            " [203. 200. 199. 197. 198. 202. 202. 200. 199. 199. 203. 206. 202. 199.\n",
            "  203. 203. 202. 205. 200. 198. 202. 202. 202. 204. 201. 203. 199. 200.\n",
            "  201. 202. 201. 203. 203. 199. 199. 201.]\n",
            " [199. 200. 199. 197. 197. 198. 200. 200. 192. 192. 197. 196. 201. 202.\n",
            "  192. 193. 198. 199. 199. 200. 202. 201. 202. 199. 197. 199. 200. 204.\n",
            "  206. 204. 196. 199. 199. 201. 203. 205.]\n",
            " [186. 186. 186. 185. 183. 178. 187. 185. 185. 185. 182. 180. 186. 186.\n",
            "  186. 184. 181. 178. 188. 184. 186. 181. 178. 177. 182. 180. 180. 180.\n",
            "  176. 175. 173. 175. 178. 181. 176. 177.]\n",
            " [139. 121. 115. 138. 135. 137. 138. 132. 114. 137. 136. 137. 138. 131.\n",
            "  111. 137. 136. 136. 138. 135. 104. 132. 137. 136. 138. 140. 131. 118.\n",
            "  137. 137. 138. 137. 139. 117. 132. 140.]\n",
            " [153. 153. 152. 160. 148. 155. 154. 156. 153. 156. 143. 162. 157. 159.\n",
            "  163. 142. 141. 165. 153. 152. 155. 137. 152. 155. 151. 150. 146. 143.\n",
            "  159. 157. 147. 154. 151. 153. 157. 155.]\n",
            " [147. 148. 147. 149. 126. 141. 146. 146. 148. 142. 130. 145. 146. 145.\n",
            "  149. 125. 137. 147. 148. 147. 149. 122. 141. 148. 151. 149. 152. 134.\n",
            "  135. 149. 152. 151. 154. 137. 130. 151.]\n",
            " [160. 162. 161. 146. 137. 152. 160. 161. 161. 147. 150. 157. 155. 158.\n",
            "  161. 143. 153. 156. 153. 157. 158. 148. 158. 155. 151. 158. 149. 151.\n",
            "  161. 154. 157. 156. 138. 159. 159. 156.]\n",
            " [153. 151. 155. 140. 138. 153. 151. 151. 153. 138. 144. 151. 151. 153.\n",
            "  154. 138. 147. 148. 151. 149. 150. 134. 145. 148. 147. 146. 149. 132.\n",
            "  135. 148. 146. 146. 149. 134. 131. 148.]\n",
            " [160. 155. 142. 145. 120. 132. 153. 150. 143. 146. 121. 137. 149. 148.\n",
            "  146. 138. 130. 145. 148. 147. 144. 128. 144. 145. 146. 149. 140. 129.\n",
            "  145. 144. 146. 148. 125. 141. 145. 147.]\n",
            " [156. 128. 116. 153. 151. 151. 155. 143. 109. 152. 153. 151. 154. 141.\n",
            "  127. 153. 152. 150. 152. 150. 128. 145. 149. 146. 154. 152. 128. 146.\n",
            "  148. 147. 152. 155. 127. 142. 149. 150.]\n",
            " [  0.   1.   2.   3.   4.   5.   6.   7.   8.   9.  10.  11.  12.  13.\n",
            "   14.  15.  16.  17.  18.  19.  20.  21.  22.  23.  24.  25.  26.  27.\n",
            "   28.  29.  30.  31.  32.  33.  34.  35.]]\n"
          ]
        }
      ]
    },
    {
      "cell_type": "code",
      "metadata": {
        "id": "8l_4tw09NwfK",
        "outputId": "fe9f561b-b38d-4e15-e98f-f2f232a6f3b8"
      },
      "source": [
        "print(y_train[:14].shape)"
      ],
      "execution_count": null,
      "outputs": [
        {
          "name": "stdout",
          "output_type": "stream",
          "text": [
            "(14,)\n"
          ]
        }
      ]
    },
    {
      "cell_type": "code",
      "metadata": {
        "id": "GelFn2KdKunC",
        "outputId": "a12b7e1b-15f0-4b52-c55c-2871e00450c6"
      },
      "source": [
        "program_inputs = {\n",
        "    'feature_map': fm,\n",
        "    'data': x_train,\n",
        "    'labels': y_train,\n",
        "    'maxiters': maxiters,\n",
        "    'C': C,\n",
        "    #'initial_kernel_parameters': initial_point,\n",
        "    'initial_layout': initial_layout\n",
        "}\n",
        "\n",
        "options = {'backend_name': backend.name()}\n",
        "\n",
        "job = provider.runtime.run(program_id=\"quantum-kernel-alignment\",\n",
        "                              options=options,\n",
        "                              inputs=program_inputs,\n",
        "                              callback=interim_result_callback,\n",
        "                              )\n",
        "\n",
        "print(job.job_id())\n",
        "result = job.result()"
      ],
      "execution_count": null,
      "outputs": [
        {
          "name": "stdout",
          "output_type": "stream",
          "text": [
            "c4mhfjh9n8vj68gflib0\n",
            "interim result: {'cost': 6.428436541520028, 'kernel_parameters': array([ 0.29234045, -0.7637848 , -0.16341597,  0.95053332, -0.62603018,\n",
            "        0.57688641, -0.80620692,  0.46897087, -0.66257151,  0.30094328,\n",
            "       -0.24930219,  0.60681848,  0.25965402, -0.24295653,  0.27711203,\n",
            "        0.60902501,  0.86895644, -0.58787294])}\n",
            "\n",
            "interim result: {'cost': 6.428586006482116, 'kernel_parameters': array([ 0.29230349, -0.76382177, -0.163379  ,  0.95057029, -0.62606715,\n",
            "        0.57684944, -0.80624388,  0.4689339 , -0.66260848,  0.30098025,\n",
            "       -0.24926522,  0.60678151,  0.25969099, -0.2429935 ,  0.27707506,\n",
            "        0.60906198,  0.86899341, -0.58790991])}\n",
            "\n",
            "interim result: {'cost': 6.428533702592352, 'kernel_parameters': array([ 0.29229272, -0.763811  , -0.16336823,  0.95055952, -0.62607792,\n",
            "        0.57686021, -0.80625465,  0.46894467, -0.66261925,  0.30099102,\n",
            "       -0.24927599,  0.60679228,  0.25970176, -0.24298273,  0.27708583,\n",
            "        0.60907275,  0.86900418, -0.58789914])}\n",
            "\n",
            "interim result: {'cost': 6.428630850373835, 'kernel_parameters': array([ 0.29228152, -0.7638222 , -0.16335704,  0.95057072, -0.62608911,\n",
            "        0.57684901, -0.80626585,  0.46895586, -0.66260805,  0.30100221,\n",
            "       -0.24928718,  0.60680348,  0.25971295, -0.24297154,  0.27707464,\n",
            "        0.60908394,  0.86901537, -0.58791033])}\n",
            "\n",
            "interim result: {'cost': 6.428472657573143, 'kernel_parameters': array([ 0.29227958, -0.76382414, -0.1633551 ,  0.95057266, -0.62608716,\n",
            "        0.57684707, -0.8062639 ,  0.46895392, -0.66261   ,  0.30100415,\n",
            "       -0.24928913,  0.60680153,  0.2597149 , -0.24296959,  0.27707269,\n",
            "        0.60908589,  0.86901732, -0.58790839])}\n",
            "\n"
          ]
        }
      ]
    },
    {
      "cell_type": "markdown",
      "metadata": {
        "id": "8G98V8oRK5EM"
      },
      "source": [
        "##Retrieve the results of the program"
      ]
    },
    {
      "cell_type": "code",
      "metadata": {
        "id": "jEVPLj9YKyuL",
        "outputId": "2b50e4b1-288f-41fa-b7b8-56f13f10c320"
      },
      "source": [
        "print(f\"aligned_kernel_parameters: {result['aligned_kernel_parameters']}\")\n",
        "\n",
        "from matplotlib import pyplot as plt\n",
        "from pylab import cm\n",
        "plt.rcParams['font.size'] = 14\n",
        "plt.imshow(result['aligned_kernel_matrix']-np.identity(2*num_train), cmap=cm.get_cmap('bwr', 20))\n",
        "plt.show()"
      ],
      "execution_count": null,
      "outputs": [
        {
          "name": "stdout",
          "output_type": "stream",
          "text": [
            "aligned_kernel_parameters: [ 0.29227958 -0.76382414 -0.1633551   0.95057266 -0.62608716  0.57684707\n",
            " -0.8062639   0.46895392 -0.66261     0.30100415 -0.24928913  0.60680153\n",
            "  0.2597149  -0.24296959  0.27707269  0.60908589  0.86901732 -0.58790839]\n"
          ]
        },
        {
          "data": {
            "image/png": "[encoded data removed]",
            "text/plain": [
              "<Figure size 432x288 with 1 Axes>"
            ]
          },
          "metadata": {
            "needs_background": "light"
          },
          "output_type": "display_data"
        }
      ]
    },
    {
      "cell_type": "markdown",
      "metadata": {
        "id": "GzzIeZbbLFK3"
      },
      "source": [
        "##Use the results of the program to test an SVM on new data"
      ]
    },
    {
      "cell_type": "code",
      "metadata": {
        "id": "WB4dDDUvLH2r"
      },
      "source": [
        "# from qiskit_runtime.qka import KernelMatrix\n",
        "from qka import KernelMatrix\n",
        "from sklearn.svm import SVC\n",
        "from sklearn import metrics\n",
        "\n",
        "# train the SVM with the aligned kernel matrix:\n",
        "\n",
        "kernel_aligned = result['aligned_kernel_matrix']\n",
        "model = SVC(C=C, kernel='precomputed')\n",
        "model.fit(X=kernel_aligned, y=y_train)\n",
        "\n",
        "# test the SVM on new data:\n",
        "\n",
        "km = KernelMatrix(feature_map=fm, backend=backend, initial_layout=initial_layout)"
      ],
      "execution_count": null,
      "outputs": []
    },
    {
      "cell_type": "code",
      "metadata": {
        "id": "Ax4OcvumNwfL",
        "outputId": "8fb74b00-20b6-4ac9-8317-7ae7f24ac224"
      },
      "source": [
        "print(result['aligned_kernel_parameters'])"
      ],
      "execution_count": null,
      "outputs": [
        {
          "name": "stdout",
          "output_type": "stream",
          "text": [
            "(18,)\n"
          ]
        }
      ]
    },
    {
      "cell_type": "code",
      "metadata": {
        "id": "4K87n-0-JwBl",
        "outputId": "fca5f1cf-3053-4b28-aa4f-437539f15d16"
      },
      "source": [
        "kernel_test = km.construct_kernel_matrix(x1_vec=x_test, x2_vec=x_train, parameters=result['aligned_kernel_parameters'])\n",
        "labels_test = model.predict(X=kernel_test)\n",
        "accuracy_test = metrics.balanced_accuracy_score(y_true=y_test, y_pred=labels_test)\n",
        "print(f\"accuracy test: {accuracy_test}\")"
      ],
      "execution_count": null,
      "outputs": [
        {
          "name": "stdout",
          "output_type": "stream",
          "text": [
            "accuracy test: 0.5\n"
          ]
        }
      ]
    },
    {
      "cell_type": "code",
      "metadata": {
        "id": "Gk_A6FJgNwfL",
        "outputId": "91da2c01-7589-4038-98cd-2489a71d0aaf"
      },
      "source": [
        "print(kernel_test)"
      ],
      "execution_count": null,
      "outputs": [
        {
          "name": "stdout",
          "output_type": "stream",
          "text": [
            "[[0.         0.         0.         0.         0.         0.\n",
            "  0.         0.         0.         0.         0.         0.\n",
            "  0.         0.        ]\n",
            " [0.         0.         0.         0.         0.         0.\n",
            "  0.         0.         0.         0.         0.         0.\n",
            "  0.         0.        ]\n",
            " [0.         0.00012207 0.         0.         0.         0.\n",
            "  0.         0.         0.         0.         0.         0.\n",
            "  0.         0.        ]\n",
            " [0.         0.         0.         0.         0.         0.\n",
            "  0.         0.         0.         0.         0.         0.\n",
            "  0.         0.        ]\n",
            " [0.         0.         0.         0.         0.         0.\n",
            "  0.         0.         0.         0.         0.         0.\n",
            "  0.         0.        ]\n",
            " [0.         0.00012207 0.         0.         0.         0.\n",
            "  0.         0.         0.         0.         0.         0.\n",
            "  0.         0.        ]\n",
            " [0.         0.         0.         0.         0.         0.\n",
            "  0.         0.         0.         0.         0.         0.\n",
            "  0.         0.        ]\n",
            " [0.         0.         0.         0.         0.         0.\n",
            "  0.         0.         0.         0.         0.         0.\n",
            "  0.         0.        ]\n",
            " [0.         0.         0.         0.         0.         0.\n",
            "  0.         0.         0.         0.         0.         0.\n",
            "  0.         0.        ]\n",
            " [0.         0.         0.         0.         0.         0.\n",
            "  0.         0.         0.         0.         0.         0.\n",
            "  0.         0.        ]\n",
            " [0.         0.         0.         0.         0.         0.\n",
            "  0.         0.         0.         0.         0.         0.\n",
            "  0.         0.        ]\n",
            " [0.         0.         0.         0.         0.         0.\n",
            "  0.         0.         0.         0.         0.         0.\n",
            "  0.         0.        ]\n",
            " [0.         0.         0.         0.         0.         0.\n",
            "  0.         0.         0.         0.         0.         0.\n",
            "  0.         0.        ]\n",
            " [0.         0.         0.         0.         0.         0.\n",
            "  0.         0.         0.         0.         0.         0.\n",
            "  0.         0.        ]]\n"
          ]
        }
      ]
    },
    {
      "cell_type": "markdown",
      "metadata": {
        "id": "1kZCKX9TGz13",
        "tags": []
      },
      "source": [
        "##  Creating \"Quantum Class\""
      ]
    },
    {
      "cell_type": "code",
      "metadata": {
        "id": "jI0LaCB0NwfL",
        "outputId": "a27c43dd-27b4-4cee-bdfb-d8f6293b9e34"
      },
      "source": [
        "torch.device('cuda')"
      ],
      "execution_count": null,
      "outputs": [
        {
          "data": {
            "text/plain": [
              "device(type='cuda')"
            ]
          },
          "execution_count": 475,
          "metadata": {},
          "output_type": "execute_result"
        }
      ]
    },
    {
      "cell_type": "code",
      "metadata": {
        "id": "KLaJuGrtNwfM",
        "outputId": "847ed934-3bed-45e2-b754-faa7537eb7e6"
      },
      "source": [
        "## Set code to run on device\n",
        "device = torch.device(\"cuda\" if torch.cuda.is_available() else \"cpu\")\n",
        "print(device)"
      ],
      "execution_count": null,
      "outputs": [
        {
          "name": "stdout",
          "output_type": "stream",
          "text": [
            "cuda\n"
          ]
        }
      ]
    },
    {
      "cell_type": "code",
      "metadata": {
        "id": "nlowcSurNwfM"
      },
      "source": [
        "## Define data augmentation and transforms, resizing to 7 x 7 and converting RGB to Grayscale\n",
        "chosen_transforms = {'train': transforms.Compose([\n",
        "        transforms.Grayscale(num_output_channels=1),\n",
        "        transforms.RandomResizedCrop(size=7),\n",
        "        transforms.RandomRotation(degrees=10),\n",
        "        transforms.RandomHorizontalFlip(),\n",
        "        transforms.RandomVerticalFlip(),\n",
        "        transforms.ColorJitter(brightness=0.15, contrast=0.15),\n",
        "        transforms.ToTensor(),\n",
        "        transforms.Normalize(mean_nums, std_nums)\n",
        "]), 'val': transforms.Compose([\n",
        "        transforms.Grayscale(num_output_channels=1),\n",
        "        transforms.Resize(7),\n",
        "        transforms.CenterCrop(7),\n",
        "        transforms.ToTensor(),\n",
        "        transforms.Normalize(mean_nums, std_nums)\n",
        "]),\n",
        "}"
      ],
      "execution_count": null,
      "outputs": []
    },
    {
      "cell_type": "code",
      "metadata": {
        "id": "6_6P6eiKNwfM"
      },
      "source": [
        "## Create the data loader\n",
        "def load_dataset(format, batch_size):\n",
        "    data_path = os.path.join(cwd, format)\n",
        "    dataset = datasets.ImageFolder(\n",
        "        root=data_path,\n",
        "        transform= chosen_transforms[format]\n",
        "    )\n",
        "    data_loader = DataLoader(\n",
        "        dataset,\n",
        "        batch_size=batch_size,\n",
        "        num_workers=2,\n",
        "        shuffle=True\n",
        "    )\n",
        "    return data_loader, len(dataset), dataset.classes"
      ],
      "execution_count": null,
      "outputs": []
    },
    {
      "cell_type": "code",
      "metadata": {
        "id": "xOvFFbrLNwfM",
        "outputId": "2180fad9-5ba0-48fb-ed4b-6918fa48c47b"
      },
      "source": [
        "train_batch_size = 1\n",
        "test_batch_size = 1\n",
        "train_loader, train_sizes, class_names = load_dataset('train',train_batch_size)\n",
        "test_loader, test_sizes, _ = load_dataset('val', test_batch_size)\n",
        "idx_to_class = {0:'Negative', 1:'Positive'}\n",
        "print(\"Train Data Set size is: \", train_sizes)\n",
        "print(\"Class Names are: \", class_names)\n",
        "inputs, classes = next(iter(train_loader))\n",
        "print(inputs.shape, classes.shape)"
      ],
      "execution_count": null,
      "outputs": [
        {
          "name": "stdout",
          "output_type": "stream",
          "text": [
            "Train Data Set size is:  25570\n",
            "Class Names are:  ['Negative', 'Positive']\n",
            "torch.Size([1, 1, 7, 7]) torch.Size([1])\n"
          ]
        }
      ]
    },
    {
      "cell_type": "code",
      "metadata": {
        "id": "dGGyAdSmNwfN"
      },
      "source": [
        "class QuantumCircuit:\n",
        "    \"\"\" \n",
        "    This class provides a simple interface for interaction \n",
        "    with the quantum circuit \n",
        "    \"\"\"\n",
        "    \n",
        "    def __init__(self, n_qubits, backend, shots):\n",
        "        # --- Circuit definition ---\n",
        "        self._circuit = qiskit.QuantumCircuit(n_qubits)\n",
        "        \n",
        "        all_qubits = [i for i in range(n_qubits)]\n",
        "        self.theta = qiskit.circuit.Parameter('theta')\n",
        "        \n",
        "        self._circuit.h(all_qubits)\n",
        "        self._circuit.barrier()\n",
        "        self._circuit.ry(self.theta, all_qubits)\n",
        "        \n",
        "        self._circuit.measure_all()\n",
        "        # ---------------------------\n",
        "\n",
        "        self.backend = backend\n",
        "        self.shots = shots\n",
        "    \n",
        "    def run(self, thetas):\n",
        "        t_qc = transpile(self._circuit,\n",
        "                         self.backend)\n",
        "        qobj = assemble(t_qc,\n",
        "                        shots=self.shots,\n",
        "                        parameter_binds = [{self.theta: theta} for theta in thetas])\n",
        "        job = self.backend.run(qobj)\n",
        "        result = job.result().get_counts()\n",
        "        \n",
        "        counts = np.array(list(result.values()))\n",
        "        states = np.array(list(result.keys())).astype(float)\n",
        "        \n",
        "        # Compute probabilities for each state\n",
        "        probabilities = counts / self.shots\n",
        "        # Get state expectation\n",
        "        expectation = np.sum(states * probabilities)\n",
        "        \n",
        "        return np.array([expectation])"
      ],
      "execution_count": null,
      "outputs": []
    },
    {
      "cell_type": "code",
      "metadata": {
        "id": "t5_A2F_CNwfN"
      },
      "source": [
        "simulator = qiskit.Aer.get_backend('aer_simulator')\n",
        "# simulator = backend\n",
        "\n",
        "circuit = QuantumCircuit(1, simulator, 100)\n",
        "print(circuit.shape)\n",
        "print('Expected value for rotation pi {}'.format(circuit.run([np.pi])[0]))\n",
        "circuit._circuit.draw()"
      ],
      "execution_count": null,
      "outputs": []
    },
    {
      "cell_type": "code",
      "metadata": {
        "id": "i4SAlHwRNwfN"
      },
      "source": [
        "class HybridFunction(Function):\n",
        "    \"\"\" Hybrid quantum - classical function definition \"\"\"\n",
        "    \n",
        "    @staticmethod\n",
        "    def forward(ctx, input, quantum_circuit, shift):\n",
        "        \"\"\" Forward pass computation \"\"\"\n",
        "        ctx.shift = shift\n",
        "        ctx.quantum_circuit = quantum_circuit\n",
        "\n",
        "        expectation_z = ctx.quantum_circuit.run(input[0].tolist())\n",
        "        result = torch.tensor([expectation_z])\n",
        "        ctx.save_for_backward(input, result)\n",
        "\n",
        "        return result\n",
        "        \n",
        "    @staticmethod\n",
        "    def backward(ctx, grad_output):\n",
        "        \"\"\" Backward pass computation \"\"\"\n",
        "        input, expectation_z = ctx.saved_tensors\n",
        "        input_list = np.array(input.tolist())\n",
        "        \n",
        "        shift_right = input_list + np.ones(input_list.shape) * ctx.shift\n",
        "        shift_left = input_list - np.ones(input_list.shape) * ctx.shift\n",
        "        \n",
        "        gradients = []\n",
        "        for i in range(len(input_list)):\n",
        "            expectation_right = ctx.quantum_circuit.run(shift_right[i])\n",
        "            expectation_left  = ctx.quantum_circuit.run(shift_left[i])\n",
        "            \n",
        "            gradient = torch.tensor([expectation_right]) - torch.tensor([expectation_left])\n",
        "            gradients.append(gradient)\n",
        "        gradients = np.array([gradients]).T\n",
        "        return torch.tensor([gradients]).float() * grad_output.float(), None, None\n",
        "\n",
        "class Hybrid(nn.Module):\n",
        "    \"\"\" Hybrid quantum - classical layer definition \"\"\"\n",
        "    \n",
        "    def __init__(self, backend, shots, shift):\n",
        "        super(Hybrid, self).__init__()\n",
        "        self.quantum_circuit = QuantumCircuit(1, backend, shots)\n",
        "        self.shift = shift\n",
        "        \n",
        "    def forward(self, input):\n",
        "        return HybridFunction.apply(input, self.quantum_circuit, self.shift)"
      ],
      "execution_count": null,
      "outputs": []
    },
    {
      "cell_type": "code",
      "metadata": {
        "id": "HdAfUPskNwfN",
        "outputId": "80bfe05e-538e-45f6-e9fd-fc56f5c77c63"
      },
      "source": [
        "weights = torch.tensor([result['aligned_kernel_parameters']])\n",
        "print (weights.shape)\n",
        "weights = torch.reshape(weights,(9,2))\n",
        "weights = torch.unsqueeze(torch.unsqueeze(weights,0),3)\n",
        "print(weights.shape)"
      ],
      "execution_count": null,
      "outputs": [
        {
          "name": "stdout",
          "output_type": "stream",
          "text": [
            "torch.Size([1, 18])\n",
            "torch.Size([1, 9, 2, 1])\n"
          ]
        }
      ]
    },
    {
      "cell_type": "code",
      "metadata": {
        "id": "nb-zNMjroz0h"
      },
      "source": [
        "class Net(nn.Module):\n",
        "    def __init__(self):\n",
        "        super(Net, self).__init__()\n",
        "        self.conv1 = nn.Conv2d(1, 9, kernel_size=3)\n",
        "        self.conv2 = nn.Conv2d(12, 16, kernel_size=3)\n",
        "        self.conv3 = nn.Conv2d(1, 9, 2, 1)\n",
        "        weights = torch.tensor([result['aligned_kernel_parameters']])\n",
        "        weights = torch.reshape(weights,(9,2))\n",
        "        weights = torch.unsqueeze(torch.unsqueeze(weights,0),3)\n",
        "        self.conv3.weight.data = self.conv3.weight.data + weights.float()\n",
        "        self.dropout = nn.Dropout2d()\n",
        "        self.fc1 = nn.Linear(256, 64)\n",
        "        self.fc2 = nn.Linear(9, 1)\n",
        "        self.hybrid = Hybrid(qiskit.Aer.get_backend('aer_simulator'),100, np.pi / 2)\n",
        "\n",
        "    def forward(self, x):\n",
        "        x = F.relu(self.conv1(x))\n",
        "        x = F.max_pool2d(x, 2)\n",
        "        # x = F.relu(self.conv2(x))\n",
        "        x = self.conv3(x.float())\n",
        "        # x = F.max_pool2d(x, 2)\n",
        "        x = self.dropout(x)\n",
        "        x = x.view(1, -1)\n",
        "        # x = F.relu(self.fc1(x))\n",
        "        x = F.relu(self.fc2(x))\n",
        "        x = self.hybrid(x)\n",
        "        return torch.cat((x, 1 - x), -1)\n"
      ],
      "execution_count": null,
      "outputs": []
    },
    {
      "cell_type": "code",
      "metadata": {
        "id": "GCANH7cJNwfQ",
        "outputId": "0861140b-8aca-4120-ee17-bac2d870fd8c"
      },
      "source": [
        "## Set code to run on device\n",
        "device = torch.device(\"cuda\" if torch.cuda.is_available() else \"cpu\")\n",
        "print(device)"
      ],
      "execution_count": null,
      "outputs": [
        {
          "name": "stdout",
          "output_type": "stream",
          "text": [
            "cuda\n"
          ]
        }
      ]
    },
    {
      "cell_type": "markdown",
      "metadata": {
        "id": "XJFZtIaruRbH"
      },
      "source": [
        "##Creating a \"Quantum-Classical Class\" with PyTorch"
      ]
    },
    {
      "cell_type": "code",
      "metadata": {
        "id": "PEtSE4VauPFG",
        "scrolled": true,
        "tags": [],
        "outputId": "99868034-612f-4e06-9d0b-af750f62b8e1"
      },
      "source": [
        "model = Net()\n",
        "optimizer = optim.Adam(model.parameters(), lr=0.001)\n",
        "loss_func = nn.NLLLoss()\n",
        "\n",
        "epochs = 20\n",
        "loss_list = []\n",
        "print(\"Training:\")\n",
        "model.train()\n",
        "for epoch in range(epochs):\n",
        "    total_loss = []\n",
        "    for batch_idx, (data, target) in enumerate(train_loader):\n",
        "        optimizer.zero_grad()\n",
        "        # Forward pass\n",
        "        output = model(data)\n",
        "        # Calculating loss\n",
        "        loss = loss_func(output, target)\n",
        "        # Backward pass\n",
        "        loss.backward()\n",
        "        # Optimize the weights\n",
        "        optimizer.step()\n",
        "        \n",
        "        total_loss.append(loss.item())\n",
        "    loss_list.append(sum(total_loss)/len(total_loss))\n",
        "    print('Training [{:.0f}%]\\tLoss: {:.4f}'.format(\n",
        "        100. * (epoch + 1) / epochs, loss_list[-1]))"
      ],
      "execution_count": null,
      "outputs": [
        {
          "name": "stdout",
          "output_type": "stream",
          "text": [
            "Training:\n"
          ]
        },
        {
          "name": "stderr",
          "output_type": "stream",
          "text": [
            "<ipython-input-561-625640256c98>:32: FutureWarning: The input object of type 'Tensor' is an array-like implementing one of the corresponding protocols (`__array__`, `__array_interface__` or `__array_struct__`); but not a sequence (or 0-D). In the future, this object will be coerced as if it was first converted using `np.array(obj)`. To retain the old behaviour, you have to either modify the type 'Tensor', or assign to an empty array created with `np.empty(correct_shape, dtype=object)`.\n",
            "  gradients = np.array([gradients]).T\n"
          ]
        },
        {
          "name": "stdout",
          "output_type": "stream",
          "text": [
            "Training [50%]\tLoss: -0.6706\n",
            "Training [100%]\tLoss: -0.7009\n"
          ]
        }
      ]
    },
    {
      "cell_type": "code",
      "metadata": {
        "id": "ExxFVwoStB8O",
        "outputId": "58b9d5f5-6fe8-4e5c-8e18-67e3e7b996a5"
      },
      "source": [
        "plt.plot(loss_list)\n",
        "plt.title('Hybrid QKA + QNN Training Convergence')\n",
        "plt.xlabel('Training Iterations')\n",
        "plt.ylabel('Neg Log Likelihood Loss')"
      ],
      "execution_count": null,
      "outputs": [
        {
          "data": {
            "text/plain": [
              "Text(0, 0.5, 'Neg Log Likelihood Loss')"
            ]
          },
          "execution_count": 567,
          "metadata": {},
          "output_type": "execute_result"
        },
        {
          "data": {
            "image/png": "[encoded data removed]",
            "text/plain": [
              "<Figure size 432x288 with 1 Axes>"
            ]
          },
          "metadata": {
            "needs_background": "light"
          },
          "output_type": "display_data"
        }
      ]
    },
    {
      "cell_type": "markdown",
      "metadata": {
        "id": "68FS26EhupnR"
      },
      "source": [
        "##Creating the Hybrid Neural Network"
      ]
    },
    {
      "cell_type": "code",
      "metadata": {
        "id": "NYjnqL-AurYG",
        "outputId": "8eb3d84a-828f-4382-f6ba-ea5f858a3620"
      },
      "source": [
        "model.eval()\n",
        "with torch.no_grad():\n",
        "    \n",
        "    correct = 0\n",
        "    for batch_idx, (data, target) in enumerate(test_loader):\n",
        "        output = model(data)\n",
        "        \n",
        "        pred = output.argmax(dim=1, keepdim=True) \n",
        "        correct += pred.eq(target.view_as(pred)).sum().item()\n",
        "        \n",
        "        loss = loss_func(output, target)\n",
        "        total_loss.append(loss.item())\n",
        "        \n",
        "    print('Performance on test data:\\n\\tLoss: {:.4f}\\n\\tAccuracy: {:.1f}%'.format(\n",
        "        sum(total_loss) / len(total_loss),\n",
        "        correct / len(test_loader) * 100)\n",
        "        )"
      ],
      "execution_count": null,
      "outputs": [
        {
          "name": "stdout",
          "output_type": "stream",
          "text": [
            "Performance on test data:\n",
            "\tLoss: -0.7077\n",
            "\tAccuracy: 70.3%\n"
          ]
        }
      ]
    }
  ]
}